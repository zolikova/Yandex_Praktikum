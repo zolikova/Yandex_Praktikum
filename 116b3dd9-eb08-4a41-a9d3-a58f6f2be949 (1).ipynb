{
 "cells": [
  {
   "cell_type": "markdown",
   "id": "098967b4",
   "metadata": {},
   "source": [
    "<div style=\"border:solid purple 2px; padding: 20px\"> \n",
    "\n",
    "Александра, привет! 👋\n",
    "\n",
    "Меня зовут Рустам Муртазин, и я буду делать ревью проектной работы по предобработке данных (точнее ее части). Давай будем общаться на **«ты»**. Если это неприемлемо, обязательно напиши мне в комментариях — мы перейдем на **«вы»**.\n",
    "\n",
    "В любом деле всегда можно можно что-то улучшить. Моя основная цель — не показать, что где-то совершены какие-либо ошибки, а поделиться своим опытом, который поможет тебе в дальнейших работах. Далее в файле ты сможешь увидеть мои комментарии, постарайся учесть их при выполнении следующих заданий.\n",
    "\n",
    "Обрати внимание в первую очередь на те, что помечаны <span style=\"color:red\">красным цветом</span>. После их доработки проект будет принят. <span style=\"color:green\">Зеленым цветом</span> отмечены удачные и элегантные решения, на которые можно опираться в будущих проектах. <span style=\"color:orange\">Оранжевым цветом</span> выделено то, что в следующий раз можно сделать по-другому. Ты можешь учесть эти комментарии при выполнении будущих заданий или доработать проект сейчас (однако это не обязательно). Также в проекте могут быть небольшие «лайфхаки» по Python, не относящиеся к проекту, их я выделил в фиолетовую рамку)\n",
    "\n",
    "Давай работать над проектом в диалоге: если ты **что-то меняешь** в проекте по моим рекомендациям — **пиши об этом**. Выбери для своих комментариев какой-то заметный цвет, так мне будет легче отследить изменения. Пожалуйста, **не перемещай, не изменяй и не удаляй мои комментарии**. Всё это поможет выполнить повторную проверку твоего проекта оперативнее».\n",
    "\n",
    "Мне понравился твой проект, есть пару замечаний (одно, если быть точным), я думаю ты быстро справишься. Жду твою работу на повторное ревью :)\n",
    "\n",
    "![](https://i.gifer.com/7V3.gif)\n",
    "\n",
    "<div>"
   ]
  },
  {
   "cell_type": "markdown",
   "id": "75a083bf",
   "metadata": {},
   "source": [
    "<div class=\"alert alert-success\">\n",
    "<h2> Комментарий ревьюера v2 ✔️ <a class=\"tocSkip\"> </h2>\n",
    "\n",
    "Показал пример реализации с помощью pivot_table, думаю, он тебе поможет... Надеюсь ты учтешь мои комментарии в последующих работах. Благодарю за старания и интерес и желаю успехов в дальнейших проектах 😊\n",
    "\n",
    "</div>"
   ]
  },
  {
   "cell_type": "markdown",
   "id": "c81daeeb",
   "metadata": {
    "deletable": false,
    "id": "c81daeeb"
   },
   "source": [
    "# Исследование надежности заемщиков\n"
   ]
  },
  {
   "cell_type": "markdown",
   "id": "827c20bf",
   "metadata": {
    "id": "827c20bf"
   },
   "source": [
    "Во второй части проекта вы выполните шаги 3 и 4. Их вручную проверит ревьюер.\n",
    "Чтобы вам не пришлось писать код заново для шагов 1 и 2, мы добавили авторские решения в ячейки с кодом. \n",
    "\n"
   ]
  },
  {
   "cell_type": "markdown",
   "id": "744d7639",
   "metadata": {
    "deletable": false,
    "id": "744d7639"
   },
   "source": [
    "## Откройте таблицу и изучите общую информацию о данных"
   ]
  },
  {
   "cell_type": "markdown",
   "id": "e7a14c31",
   "metadata": {
    "deletable": false,
    "id": "e7a14c31"
   },
   "source": [
    "**Задание 1. Импортируйте библиотеку pandas. Считайте данные из csv-файла в датафрейм и сохраните в переменную `data`. Путь к файлу:**\n",
    "\n",
    "`/datasets/data.csv`"
   ]
  },
  {
   "cell_type": "code",
   "execution_count": 2,
   "id": "7bcf75c9",
   "metadata": {
    "deletable": false,
    "id": "7bcf75c9"
   },
   "outputs": [],
   "source": [
    "import pandas as pd\n",
    "\n",
    "try:\n",
    "    data = pd.read_csv('/datasets/data.csv')\n",
    "except:\n",
    "    data = pd.read_csv('https://code.s3.yandex.net/datasets/data.csv')"
   ]
  },
  {
   "cell_type": "markdown",
   "id": "b8038fe3",
   "metadata": {
    "deletable": false,
    "id": "b8038fe3"
   },
   "source": [
    "**Задание 2. Выведите первые 20 строчек датафрейма `data` на экран.**"
   ]
  },
  {
   "cell_type": "code",
   "execution_count": 3,
   "id": "2a7cab99",
   "metadata": {
    "deletable": false,
    "id": "2a7cab99",
    "outputId": "1a8f3ef2-d323-4ec2-ddf7-89670b5944c4"
   },
   "outputs": [
    {
     "data": {
      "text/html": [
       "<div>\n",
       "<style scoped>\n",
       "    .dataframe tbody tr th:only-of-type {\n",
       "        vertical-align: middle;\n",
       "    }\n",
       "\n",
       "    .dataframe tbody tr th {\n",
       "        vertical-align: top;\n",
       "    }\n",
       "\n",
       "    .dataframe thead th {\n",
       "        text-align: right;\n",
       "    }\n",
       "</style>\n",
       "<table border=\"1\" class=\"dataframe\">\n",
       "  <thead>\n",
       "    <tr style=\"text-align: right;\">\n",
       "      <th></th>\n",
       "      <th>children</th>\n",
       "      <th>days_employed</th>\n",
       "      <th>dob_years</th>\n",
       "      <th>education</th>\n",
       "      <th>education_id</th>\n",
       "      <th>family_status</th>\n",
       "      <th>family_status_id</th>\n",
       "      <th>gender</th>\n",
       "      <th>income_type</th>\n",
       "      <th>debt</th>\n",
       "      <th>total_income</th>\n",
       "      <th>purpose</th>\n",
       "    </tr>\n",
       "  </thead>\n",
       "  <tbody>\n",
       "    <tr>\n",
       "      <th>0</th>\n",
       "      <td>1</td>\n",
       "      <td>-8437.673028</td>\n",
       "      <td>42</td>\n",
       "      <td>высшее</td>\n",
       "      <td>0</td>\n",
       "      <td>женат / замужем</td>\n",
       "      <td>0</td>\n",
       "      <td>F</td>\n",
       "      <td>сотрудник</td>\n",
       "      <td>0</td>\n",
       "      <td>253875.639453</td>\n",
       "      <td>покупка жилья</td>\n",
       "    </tr>\n",
       "    <tr>\n",
       "      <th>1</th>\n",
       "      <td>1</td>\n",
       "      <td>-4024.803754</td>\n",
       "      <td>36</td>\n",
       "      <td>среднее</td>\n",
       "      <td>1</td>\n",
       "      <td>женат / замужем</td>\n",
       "      <td>0</td>\n",
       "      <td>F</td>\n",
       "      <td>сотрудник</td>\n",
       "      <td>0</td>\n",
       "      <td>112080.014102</td>\n",
       "      <td>приобретение автомобиля</td>\n",
       "    </tr>\n",
       "    <tr>\n",
       "      <th>2</th>\n",
       "      <td>0</td>\n",
       "      <td>-5623.422610</td>\n",
       "      <td>33</td>\n",
       "      <td>Среднее</td>\n",
       "      <td>1</td>\n",
       "      <td>женат / замужем</td>\n",
       "      <td>0</td>\n",
       "      <td>M</td>\n",
       "      <td>сотрудник</td>\n",
       "      <td>0</td>\n",
       "      <td>145885.952297</td>\n",
       "      <td>покупка жилья</td>\n",
       "    </tr>\n",
       "    <tr>\n",
       "      <th>3</th>\n",
       "      <td>3</td>\n",
       "      <td>-4124.747207</td>\n",
       "      <td>32</td>\n",
       "      <td>среднее</td>\n",
       "      <td>1</td>\n",
       "      <td>женат / замужем</td>\n",
       "      <td>0</td>\n",
       "      <td>M</td>\n",
       "      <td>сотрудник</td>\n",
       "      <td>0</td>\n",
       "      <td>267628.550329</td>\n",
       "      <td>дополнительное образование</td>\n",
       "    </tr>\n",
       "    <tr>\n",
       "      <th>4</th>\n",
       "      <td>0</td>\n",
       "      <td>340266.072047</td>\n",
       "      <td>53</td>\n",
       "      <td>среднее</td>\n",
       "      <td>1</td>\n",
       "      <td>гражданский брак</td>\n",
       "      <td>1</td>\n",
       "      <td>F</td>\n",
       "      <td>пенсионер</td>\n",
       "      <td>0</td>\n",
       "      <td>158616.077870</td>\n",
       "      <td>сыграть свадьбу</td>\n",
       "    </tr>\n",
       "    <tr>\n",
       "      <th>5</th>\n",
       "      <td>0</td>\n",
       "      <td>-926.185831</td>\n",
       "      <td>27</td>\n",
       "      <td>высшее</td>\n",
       "      <td>0</td>\n",
       "      <td>гражданский брак</td>\n",
       "      <td>1</td>\n",
       "      <td>M</td>\n",
       "      <td>компаньон</td>\n",
       "      <td>0</td>\n",
       "      <td>255763.565419</td>\n",
       "      <td>покупка жилья</td>\n",
       "    </tr>\n",
       "    <tr>\n",
       "      <th>6</th>\n",
       "      <td>0</td>\n",
       "      <td>-2879.202052</td>\n",
       "      <td>43</td>\n",
       "      <td>высшее</td>\n",
       "      <td>0</td>\n",
       "      <td>женат / замужем</td>\n",
       "      <td>0</td>\n",
       "      <td>F</td>\n",
       "      <td>компаньон</td>\n",
       "      <td>0</td>\n",
       "      <td>240525.971920</td>\n",
       "      <td>операции с жильем</td>\n",
       "    </tr>\n",
       "    <tr>\n",
       "      <th>7</th>\n",
       "      <td>0</td>\n",
       "      <td>-152.779569</td>\n",
       "      <td>50</td>\n",
       "      <td>СРЕДНЕЕ</td>\n",
       "      <td>1</td>\n",
       "      <td>женат / замужем</td>\n",
       "      <td>0</td>\n",
       "      <td>M</td>\n",
       "      <td>сотрудник</td>\n",
       "      <td>0</td>\n",
       "      <td>135823.934197</td>\n",
       "      <td>образование</td>\n",
       "    </tr>\n",
       "    <tr>\n",
       "      <th>8</th>\n",
       "      <td>2</td>\n",
       "      <td>-6929.865299</td>\n",
       "      <td>35</td>\n",
       "      <td>ВЫСШЕЕ</td>\n",
       "      <td>0</td>\n",
       "      <td>гражданский брак</td>\n",
       "      <td>1</td>\n",
       "      <td>F</td>\n",
       "      <td>сотрудник</td>\n",
       "      <td>0</td>\n",
       "      <td>95856.832424</td>\n",
       "      <td>на проведение свадьбы</td>\n",
       "    </tr>\n",
       "    <tr>\n",
       "      <th>9</th>\n",
       "      <td>0</td>\n",
       "      <td>-2188.756445</td>\n",
       "      <td>41</td>\n",
       "      <td>среднее</td>\n",
       "      <td>1</td>\n",
       "      <td>женат / замужем</td>\n",
       "      <td>0</td>\n",
       "      <td>M</td>\n",
       "      <td>сотрудник</td>\n",
       "      <td>0</td>\n",
       "      <td>144425.938277</td>\n",
       "      <td>покупка жилья для семьи</td>\n",
       "    </tr>\n",
       "    <tr>\n",
       "      <th>10</th>\n",
       "      <td>2</td>\n",
       "      <td>-4171.483647</td>\n",
       "      <td>36</td>\n",
       "      <td>высшее</td>\n",
       "      <td>0</td>\n",
       "      <td>женат / замужем</td>\n",
       "      <td>0</td>\n",
       "      <td>M</td>\n",
       "      <td>компаньон</td>\n",
       "      <td>0</td>\n",
       "      <td>113943.491460</td>\n",
       "      <td>покупка недвижимости</td>\n",
       "    </tr>\n",
       "    <tr>\n",
       "      <th>11</th>\n",
       "      <td>0</td>\n",
       "      <td>-792.701887</td>\n",
       "      <td>40</td>\n",
       "      <td>среднее</td>\n",
       "      <td>1</td>\n",
       "      <td>женат / замужем</td>\n",
       "      <td>0</td>\n",
       "      <td>F</td>\n",
       "      <td>сотрудник</td>\n",
       "      <td>0</td>\n",
       "      <td>77069.234271</td>\n",
       "      <td>покупка коммерческой недвижимости</td>\n",
       "    </tr>\n",
       "    <tr>\n",
       "      <th>12</th>\n",
       "      <td>0</td>\n",
       "      <td>NaN</td>\n",
       "      <td>65</td>\n",
       "      <td>среднее</td>\n",
       "      <td>1</td>\n",
       "      <td>гражданский брак</td>\n",
       "      <td>1</td>\n",
       "      <td>M</td>\n",
       "      <td>пенсионер</td>\n",
       "      <td>0</td>\n",
       "      <td>NaN</td>\n",
       "      <td>сыграть свадьбу</td>\n",
       "    </tr>\n",
       "    <tr>\n",
       "      <th>13</th>\n",
       "      <td>0</td>\n",
       "      <td>-1846.641941</td>\n",
       "      <td>54</td>\n",
       "      <td>неоконченное высшее</td>\n",
       "      <td>2</td>\n",
       "      <td>женат / замужем</td>\n",
       "      <td>0</td>\n",
       "      <td>F</td>\n",
       "      <td>сотрудник</td>\n",
       "      <td>0</td>\n",
       "      <td>130458.228857</td>\n",
       "      <td>приобретение автомобиля</td>\n",
       "    </tr>\n",
       "    <tr>\n",
       "      <th>14</th>\n",
       "      <td>0</td>\n",
       "      <td>-1844.956182</td>\n",
       "      <td>56</td>\n",
       "      <td>высшее</td>\n",
       "      <td>0</td>\n",
       "      <td>гражданский брак</td>\n",
       "      <td>1</td>\n",
       "      <td>F</td>\n",
       "      <td>компаньон</td>\n",
       "      <td>1</td>\n",
       "      <td>165127.911772</td>\n",
       "      <td>покупка жилой недвижимости</td>\n",
       "    </tr>\n",
       "    <tr>\n",
       "      <th>15</th>\n",
       "      <td>1</td>\n",
       "      <td>-972.364419</td>\n",
       "      <td>26</td>\n",
       "      <td>среднее</td>\n",
       "      <td>1</td>\n",
       "      <td>женат / замужем</td>\n",
       "      <td>0</td>\n",
       "      <td>F</td>\n",
       "      <td>сотрудник</td>\n",
       "      <td>0</td>\n",
       "      <td>116820.904450</td>\n",
       "      <td>строительство собственной недвижимости</td>\n",
       "    </tr>\n",
       "    <tr>\n",
       "      <th>16</th>\n",
       "      <td>0</td>\n",
       "      <td>-1719.934226</td>\n",
       "      <td>35</td>\n",
       "      <td>среднее</td>\n",
       "      <td>1</td>\n",
       "      <td>женат / замужем</td>\n",
       "      <td>0</td>\n",
       "      <td>F</td>\n",
       "      <td>сотрудник</td>\n",
       "      <td>0</td>\n",
       "      <td>289202.704229</td>\n",
       "      <td>недвижимость</td>\n",
       "    </tr>\n",
       "    <tr>\n",
       "      <th>17</th>\n",
       "      <td>0</td>\n",
       "      <td>-2369.999720</td>\n",
       "      <td>33</td>\n",
       "      <td>высшее</td>\n",
       "      <td>0</td>\n",
       "      <td>гражданский брак</td>\n",
       "      <td>1</td>\n",
       "      <td>M</td>\n",
       "      <td>сотрудник</td>\n",
       "      <td>0</td>\n",
       "      <td>90410.586745</td>\n",
       "      <td>строительство недвижимости</td>\n",
       "    </tr>\n",
       "    <tr>\n",
       "      <th>18</th>\n",
       "      <td>0</td>\n",
       "      <td>400281.136913</td>\n",
       "      <td>53</td>\n",
       "      <td>среднее</td>\n",
       "      <td>1</td>\n",
       "      <td>вдовец / вдова</td>\n",
       "      <td>2</td>\n",
       "      <td>F</td>\n",
       "      <td>пенсионер</td>\n",
       "      <td>0</td>\n",
       "      <td>56823.777243</td>\n",
       "      <td>на покупку подержанного автомобиля</td>\n",
       "    </tr>\n",
       "    <tr>\n",
       "      <th>19</th>\n",
       "      <td>0</td>\n",
       "      <td>-10038.818549</td>\n",
       "      <td>48</td>\n",
       "      <td>СРЕДНЕЕ</td>\n",
       "      <td>1</td>\n",
       "      <td>в разводе</td>\n",
       "      <td>3</td>\n",
       "      <td>F</td>\n",
       "      <td>сотрудник</td>\n",
       "      <td>0</td>\n",
       "      <td>242831.107982</td>\n",
       "      <td>на покупку своего автомобиля</td>\n",
       "    </tr>\n",
       "  </tbody>\n",
       "</table>\n",
       "</div>"
      ],
      "text/plain": [
       "    children  days_employed  dob_years            education  education_id  \\\n",
       "0          1   -8437.673028         42               высшее             0   \n",
       "1          1   -4024.803754         36              среднее             1   \n",
       "2          0   -5623.422610         33              Среднее             1   \n",
       "3          3   -4124.747207         32              среднее             1   \n",
       "4          0  340266.072047         53              среднее             1   \n",
       "5          0    -926.185831         27               высшее             0   \n",
       "6          0   -2879.202052         43               высшее             0   \n",
       "7          0    -152.779569         50              СРЕДНЕЕ             1   \n",
       "8          2   -6929.865299         35               ВЫСШЕЕ             0   \n",
       "9          0   -2188.756445         41              среднее             1   \n",
       "10         2   -4171.483647         36               высшее             0   \n",
       "11         0    -792.701887         40              среднее             1   \n",
       "12         0            NaN         65              среднее             1   \n",
       "13         0   -1846.641941         54  неоконченное высшее             2   \n",
       "14         0   -1844.956182         56               высшее             0   \n",
       "15         1    -972.364419         26              среднее             1   \n",
       "16         0   -1719.934226         35              среднее             1   \n",
       "17         0   -2369.999720         33               высшее             0   \n",
       "18         0  400281.136913         53              среднее             1   \n",
       "19         0  -10038.818549         48              СРЕДНЕЕ             1   \n",
       "\n",
       "       family_status  family_status_id gender income_type  debt  \\\n",
       "0    женат / замужем                 0      F   сотрудник     0   \n",
       "1    женат / замужем                 0      F   сотрудник     0   \n",
       "2    женат / замужем                 0      M   сотрудник     0   \n",
       "3    женат / замужем                 0      M   сотрудник     0   \n",
       "4   гражданский брак                 1      F   пенсионер     0   \n",
       "5   гражданский брак                 1      M   компаньон     0   \n",
       "6    женат / замужем                 0      F   компаньон     0   \n",
       "7    женат / замужем                 0      M   сотрудник     0   \n",
       "8   гражданский брак                 1      F   сотрудник     0   \n",
       "9    женат / замужем                 0      M   сотрудник     0   \n",
       "10   женат / замужем                 0      M   компаньон     0   \n",
       "11   женат / замужем                 0      F   сотрудник     0   \n",
       "12  гражданский брак                 1      M   пенсионер     0   \n",
       "13   женат / замужем                 0      F   сотрудник     0   \n",
       "14  гражданский брак                 1      F   компаньон     1   \n",
       "15   женат / замужем                 0      F   сотрудник     0   \n",
       "16   женат / замужем                 0      F   сотрудник     0   \n",
       "17  гражданский брак                 1      M   сотрудник     0   \n",
       "18    вдовец / вдова                 2      F   пенсионер     0   \n",
       "19         в разводе                 3      F   сотрудник     0   \n",
       "\n",
       "     total_income                                 purpose  \n",
       "0   253875.639453                           покупка жилья  \n",
       "1   112080.014102                 приобретение автомобиля  \n",
       "2   145885.952297                           покупка жилья  \n",
       "3   267628.550329              дополнительное образование  \n",
       "4   158616.077870                         сыграть свадьбу  \n",
       "5   255763.565419                           покупка жилья  \n",
       "6   240525.971920                       операции с жильем  \n",
       "7   135823.934197                             образование  \n",
       "8    95856.832424                   на проведение свадьбы  \n",
       "9   144425.938277                 покупка жилья для семьи  \n",
       "10  113943.491460                    покупка недвижимости  \n",
       "11   77069.234271       покупка коммерческой недвижимости  \n",
       "12            NaN                         сыграть свадьбу  \n",
       "13  130458.228857                 приобретение автомобиля  \n",
       "14  165127.911772              покупка жилой недвижимости  \n",
       "15  116820.904450  строительство собственной недвижимости  \n",
       "16  289202.704229                            недвижимость  \n",
       "17   90410.586745              строительство недвижимости  \n",
       "18   56823.777243      на покупку подержанного автомобиля  \n",
       "19  242831.107982            на покупку своего автомобиля  "
      ]
     },
     "execution_count": 3,
     "metadata": {},
     "output_type": "execute_result"
    }
   ],
   "source": [
    "data.head(20)"
   ]
  },
  {
   "cell_type": "markdown",
   "id": "1c12e233",
   "metadata": {
    "deletable": false,
    "id": "1c12e233"
   },
   "source": [
    "**Задание 3. Выведите основную информацию о датафрейме с помощью метода `info()`.**"
   ]
  },
  {
   "cell_type": "code",
   "execution_count": 4,
   "id": "2b757bca",
   "metadata": {
    "deletable": false,
    "id": "2b757bca",
    "outputId": "15376089-8dad-46c9-b520-c05248d43158"
   },
   "outputs": [
    {
     "name": "stdout",
     "output_type": "stream",
     "text": [
      "<class 'pandas.core.frame.DataFrame'>\n",
      "RangeIndex: 21525 entries, 0 to 21524\n",
      "Data columns (total 12 columns):\n",
      " #   Column            Non-Null Count  Dtype  \n",
      "---  ------            --------------  -----  \n",
      " 0   children          21525 non-null  int64  \n",
      " 1   days_employed     19351 non-null  float64\n",
      " 2   dob_years         21525 non-null  int64  \n",
      " 3   education         21525 non-null  object \n",
      " 4   education_id      21525 non-null  int64  \n",
      " 5   family_status     21525 non-null  object \n",
      " 6   family_status_id  21525 non-null  int64  \n",
      " 7   gender            21525 non-null  object \n",
      " 8   income_type       21525 non-null  object \n",
      " 9   debt              21525 non-null  int64  \n",
      " 10  total_income      19351 non-null  float64\n",
      " 11  purpose           21525 non-null  object \n",
      "dtypes: float64(2), int64(5), object(5)\n",
      "memory usage: 2.0+ MB\n"
     ]
    }
   ],
   "source": [
    "data.info()"
   ]
  },
  {
   "cell_type": "markdown",
   "id": "333ec665",
   "metadata": {
    "deletable": false,
    "id": "333ec665"
   },
   "source": [
    "## Предобработка данных"
   ]
  },
  {
   "cell_type": "markdown",
   "id": "02d92d53",
   "metadata": {
    "deletable": false,
    "id": "02d92d53"
   },
   "source": [
    "### Удаление пропусков"
   ]
  },
  {
   "cell_type": "markdown",
   "id": "cd84967c",
   "metadata": {
    "deletable": false,
    "id": "cd84967c"
   },
   "source": [
    "**Задание 4. Выведите количество пропущенных значений для каждого столбца. Используйте комбинацию двух методов.**"
   ]
  },
  {
   "cell_type": "code",
   "execution_count": 5,
   "id": "7f9b2309",
   "metadata": {
    "deletable": false,
    "id": "7f9b2309",
    "outputId": "81f4d817-781c-465c-ed15-91ce4446810d"
   },
   "outputs": [
    {
     "data": {
      "text/plain": [
       "children               0\n",
       "days_employed       2174\n",
       "dob_years              0\n",
       "education              0\n",
       "education_id           0\n",
       "family_status          0\n",
       "family_status_id       0\n",
       "gender                 0\n",
       "income_type            0\n",
       "debt                   0\n",
       "total_income        2174\n",
       "purpose                0\n",
       "dtype: int64"
      ]
     },
     "execution_count": 5,
     "metadata": {},
     "output_type": "execute_result"
    }
   ],
   "source": [
    "data.isna().sum()"
   ]
  },
  {
   "cell_type": "markdown",
   "id": "db86e27b",
   "metadata": {
    "deletable": false,
    "id": "db86e27b"
   },
   "source": [
    "**Задание 5. В двух столбцах есть пропущенные значения. Один из них — `days_employed`. Пропуски в этом столбце вы обработаете на следующем этапе. Другой столбец с пропущенными значениями — `total_income` — хранит данные о доходах. На сумму дохода сильнее всего влияет тип занятости, поэтому заполнить пропуски в этом столбце нужно медианным значением по каждому типу из столбца `income_type`. Например, у человека с типом занятости `сотрудник` пропуск в столбце `total_income` должен быть заполнен медианным доходом среди всех записей с тем же типом.**"
   ]
  },
  {
   "cell_type": "code",
   "execution_count": 6,
   "id": "42006a93",
   "metadata": {
    "deletable": false,
    "id": "42006a93"
   },
   "outputs": [],
   "source": [
    "for t in data['income_type'].unique():\n",
    "    data.loc[(data['income_type'] == t) & (data['total_income'].isna()), 'total_income'] = \\\n",
    "    data.loc[(data['income_type'] == t), 'total_income'].median()"
   ]
  },
  {
   "cell_type": "markdown",
   "id": "89da5ece",
   "metadata": {
    "deletable": false,
    "id": "89da5ece"
   },
   "source": [
    "### Обработка аномальных значений"
   ]
  },
  {
   "cell_type": "markdown",
   "id": "57964554",
   "metadata": {
    "deletable": false,
    "id": "57964554"
   },
   "source": [
    "**Задание 6. В данных могут встречаться артефакты (аномалии) — значения, которые не отражают действительность и появились по какой-то ошибке. таким артефактом будет отрицательное количество дней трудового стажа в столбце `days_employed`. Для реальных данных это нормально. Обработайте значения в этом столбце: замените все отрицательные значения положительными с помощью метода `abs()`.**"
   ]
  },
  {
   "cell_type": "code",
   "execution_count": 7,
   "id": "f6f055bf",
   "metadata": {
    "deletable": false,
    "id": "f6f055bf"
   },
   "outputs": [],
   "source": [
    "data['days_employed'] = data['days_employed'].abs()"
   ]
  },
  {
   "cell_type": "markdown",
   "id": "6107dd2f",
   "metadata": {
    "deletable": false,
    "id": "6107dd2f"
   },
   "source": [
    "**Задание 7. Для каждого типа занятости выведите медианное значение трудового стажа `days_employed` в днях.**"
   ]
  },
  {
   "cell_type": "code",
   "execution_count": 8,
   "id": "85a5faf6",
   "metadata": {
    "deletable": false,
    "id": "85a5faf6",
    "outputId": "801ef80e-522b-4668-f34e-565af7432bcf"
   },
   "outputs": [
    {
     "data": {
      "text/plain": [
       "income_type\n",
       "безработный        366413.652744\n",
       "в декрете            3296.759962\n",
       "госслужащий          2689.368353\n",
       "компаньон            1547.382223\n",
       "пенсионер          365213.306266\n",
       "предприниматель       520.848083\n",
       "сотрудник            1574.202821\n",
       "студент               578.751554\n",
       "Name: days_employed, dtype: float64"
      ]
     },
     "execution_count": 8,
     "metadata": {},
     "output_type": "execute_result"
    }
   ],
   "source": [
    "data.groupby('income_type')['days_employed'].agg('median')"
   ]
  },
  {
   "cell_type": "markdown",
   "id": "38d1a030",
   "metadata": {
    "deletable": false,
    "id": "38d1a030"
   },
   "source": [
    "У двух типов (безработные и пенсионеры) получатся аномально большие значения. Исправить такие значения сложно, поэтому оставьте их как есть. Тем более этот столбец не понадобится вам для исследования."
   ]
  },
  {
   "cell_type": "markdown",
   "id": "d8a9f147",
   "metadata": {
    "deletable": false,
    "id": "d8a9f147"
   },
   "source": [
    "**Задание 8. Выведите перечень уникальных значений столбца `children`.**"
   ]
  },
  {
   "cell_type": "code",
   "execution_count": 9,
   "id": "ef5056eb",
   "metadata": {
    "deletable": false,
    "id": "ef5056eb",
    "outputId": "6975b15c-7f95-4697-d16d-a0c79b657b03"
   },
   "outputs": [
    {
     "data": {
      "text/plain": [
       "array([ 1,  0,  3,  2, -1,  4, 20,  5])"
      ]
     },
     "execution_count": 9,
     "metadata": {},
     "output_type": "execute_result"
    }
   ],
   "source": [
    "data['children'].unique()"
   ]
  },
  {
   "cell_type": "markdown",
   "id": "40b9ebf2",
   "metadata": {
    "deletable": false,
    "id": "40b9ebf2"
   },
   "source": [
    "**Задание 9. В столбце `children` есть два аномальных значения. Удалите строки, в которых встречаются такие аномальные значения из датафрейма `data`.**"
   ]
  },
  {
   "cell_type": "code",
   "execution_count": 10,
   "id": "3ff9801d",
   "metadata": {
    "deletable": false,
    "id": "3ff9801d"
   },
   "outputs": [],
   "source": [
    "data = data[(data['children'] != -1) & (data['children'] != 20)]"
   ]
  },
  {
   "cell_type": "markdown",
   "id": "bbc4d0ce",
   "metadata": {
    "deletable": false,
    "id": "bbc4d0ce"
   },
   "source": [
    "**Задание 10. Ещё раз выведите перечень уникальных значений столбца `children`, чтобы убедиться, что артефакты удалены.**"
   ]
  },
  {
   "cell_type": "code",
   "execution_count": 11,
   "id": "ad4fa8b7",
   "metadata": {
    "deletable": false,
    "id": "ad4fa8b7",
    "outputId": "b2097101-d49d-44d9-901b-32a65c9463d1"
   },
   "outputs": [
    {
     "data": {
      "text/plain": [
       "array([1, 0, 3, 2, 4, 5])"
      ]
     },
     "execution_count": 11,
     "metadata": {},
     "output_type": "execute_result"
    }
   ],
   "source": [
    "data['children'].unique()"
   ]
  },
  {
   "cell_type": "markdown",
   "id": "75440b63",
   "metadata": {
    "deletable": false,
    "id": "75440b63"
   },
   "source": [
    "### Удаление пропусков (продолжение)"
   ]
  },
  {
   "cell_type": "markdown",
   "id": "f4ea573f",
   "metadata": {
    "deletable": false,
    "id": "f4ea573f"
   },
   "source": [
    "**Задание 11. Заполните пропуски в столбце `days_employed` медианными значениями по каждого типа занятости `income_type`.**"
   ]
  },
  {
   "cell_type": "code",
   "execution_count": 12,
   "id": "af6b1a7e",
   "metadata": {
    "deletable": false,
    "id": "af6b1a7e"
   },
   "outputs": [],
   "source": [
    "for t in data['income_type'].unique():\n",
    "    data.loc[(data['income_type'] == t) & (data['days_employed'].isna()), 'days_employed'] = \\\n",
    "    data.loc[(data['income_type'] == t), 'days_employed'].median()"
   ]
  },
  {
   "cell_type": "markdown",
   "id": "2753f40d",
   "metadata": {
    "deletable": false,
    "id": "2753f40d"
   },
   "source": [
    "**Задание 12. Убедитесь, что все пропуски заполнены. Проверьте себя и ещё раз выведите количество пропущенных значений для каждого столбца с помощью двух методов.**"
   ]
  },
  {
   "cell_type": "code",
   "execution_count": 13,
   "id": "55f78bc2",
   "metadata": {
    "deletable": false,
    "id": "55f78bc2",
    "outputId": "8da1e4e1-358e-4e87-98c9-f261bce0a7b2"
   },
   "outputs": [
    {
     "data": {
      "text/plain": [
       "children            0\n",
       "days_employed       0\n",
       "dob_years           0\n",
       "education           0\n",
       "education_id        0\n",
       "family_status       0\n",
       "family_status_id    0\n",
       "gender              0\n",
       "income_type         0\n",
       "debt                0\n",
       "total_income        0\n",
       "purpose             0\n",
       "dtype: int64"
      ]
     },
     "execution_count": 13,
     "metadata": {},
     "output_type": "execute_result"
    }
   ],
   "source": [
    "data.isna().sum()"
   ]
  },
  {
   "cell_type": "markdown",
   "id": "ddc81e43",
   "metadata": {
    "deletable": false,
    "id": "ddc81e43"
   },
   "source": [
    "### Изменение типов данных"
   ]
  },
  {
   "cell_type": "markdown",
   "id": "42d19d24",
   "metadata": {
    "deletable": false,
    "id": "42d19d24"
   },
   "source": [
    "**Задание 13. Замените вещественный тип данных в столбце `total_income` на целочисленный с помощью метода `astype()`.**"
   ]
  },
  {
   "cell_type": "code",
   "execution_count": 14,
   "id": "920b65ad",
   "metadata": {
    "deletable": false,
    "id": "920b65ad"
   },
   "outputs": [],
   "source": [
    "data['total_income'] = data['total_income'].astype(int)"
   ]
  },
  {
   "cell_type": "markdown",
   "id": "80c420ba",
   "metadata": {
    "deletable": false,
    "id": "80c420ba"
   },
   "source": [
    "### Обработка дубликатов"
   ]
  },
  {
   "cell_type": "markdown",
   "id": "dc587695",
   "metadata": {
    "deletable": false,
    "id": "dc587695"
   },
   "source": [
    "**Задание 14. Выведите на экран количество строк-дубликатов в данных. Если такие строки присутствуют, удалите их.**"
   ]
  },
  {
   "cell_type": "code",
   "execution_count": 15,
   "id": "3ee445e4",
   "metadata": {
    "deletable": false,
    "id": "3ee445e4",
    "outputId": "9684deba-1934-42d1-99e1-cda61740f822"
   },
   "outputs": [
    {
     "data": {
      "text/plain": [
       "54"
      ]
     },
     "execution_count": 15,
     "metadata": {},
     "output_type": "execute_result"
    }
   ],
   "source": [
    "data.duplicated().sum()"
   ]
  },
  {
   "cell_type": "code",
   "execution_count": 16,
   "id": "8575fe05",
   "metadata": {
    "deletable": false,
    "id": "8575fe05"
   },
   "outputs": [],
   "source": [
    "data = data.drop_duplicates()"
   ]
  },
  {
   "cell_type": "markdown",
   "id": "9771a76c",
   "metadata": {
    "deletable": false,
    "id": "9771a76c"
   },
   "source": [
    "**Задание 15. Обработайте неявные дубликаты в столбце `education`. В этом столбце есть одни и те же значения, но записанные по-разному: с использованием заглавных и строчных букв. Приведите их к нижнему регистру. Проверьте остальные столбцы.**"
   ]
  },
  {
   "cell_type": "code",
   "execution_count": 17,
   "id": "a9f8e2bf",
   "metadata": {
    "deletable": false,
    "id": "a9f8e2bf"
   },
   "outputs": [],
   "source": [
    "data['education'] = data['education'].str.lower()"
   ]
  },
  {
   "cell_type": "markdown",
   "id": "9904cf55",
   "metadata": {
    "deletable": false,
    "id": "9904cf55"
   },
   "source": [
    "### Категоризация данных"
   ]
  },
  {
   "cell_type": "markdown",
   "id": "72fcc8a2",
   "metadata": {
    "deletable": false,
    "id": "72fcc8a2"
   },
   "source": [
    "**Задание 16. На основании диапазонов, указанных ниже, создайте в датафрейме `data` столбец `total_income_category` с категориями:**\n",
    "\n",
    "- 0–30000 — `'E'`;\n",
    "- 30001–50000 — `'D'`;\n",
    "- 50001–200000 — `'C'`;\n",
    "- 200001–1000000 — `'B'`;\n",
    "- 1000001 и выше — `'A'`.\n",
    "\n",
    "\n",
    "**Например, кредитополучателю с доходом 25000 нужно назначить категорию `'E'`, а клиенту, получающему 235000, — `'B'`. Используйте собственную функцию с именем `categorize_income()` и метод `apply()`.**"
   ]
  },
  {
   "cell_type": "code",
   "execution_count": 18,
   "id": "e1771346",
   "metadata": {
    "deletable": false,
    "id": "e1771346"
   },
   "outputs": [],
   "source": [
    "def categorize_income(income):\n",
    "    try:\n",
    "        if 0 <= income <= 30000:\n",
    "            return 'E'\n",
    "        elif 30001 <= income <= 50000:\n",
    "            return 'D'\n",
    "        elif 50001 <= income <= 200000:\n",
    "            return 'C'\n",
    "        elif 200001 <= income <= 1000000:\n",
    "            return 'B'\n",
    "        elif income >= 1000001:\n",
    "            return 'A'\n",
    "    except:\n",
    "        pass"
   ]
  },
  {
   "cell_type": "code",
   "execution_count": 19,
   "id": "d5f3586d",
   "metadata": {
    "deletable": false,
    "id": "d5f3586d"
   },
   "outputs": [],
   "source": [
    "data['total_income_category'] = data['total_income'].apply(categorize_income)"
   ]
  },
  {
   "cell_type": "markdown",
   "id": "dde49b5c",
   "metadata": {
    "deletable": false,
    "id": "dde49b5c"
   },
   "source": [
    "**Задание 17. Выведите на экран перечень уникальных целей взятия кредита из столбца `purpose`.**"
   ]
  },
  {
   "cell_type": "code",
   "execution_count": 20,
   "id": "f67ce9b3",
   "metadata": {
    "deletable": false,
    "id": "f67ce9b3",
    "outputId": "673c12d9-7d7e-4ae0-9812-c622c89dd244"
   },
   "outputs": [
    {
     "data": {
      "text/plain": [
       "array(['покупка жилья', 'приобретение автомобиля',\n",
       "       'дополнительное образование', 'сыграть свадьбу',\n",
       "       'операции с жильем', 'образование', 'на проведение свадьбы',\n",
       "       'покупка жилья для семьи', 'покупка недвижимости',\n",
       "       'покупка коммерческой недвижимости', 'покупка жилой недвижимости',\n",
       "       'строительство собственной недвижимости', 'недвижимость',\n",
       "       'строительство недвижимости', 'на покупку подержанного автомобиля',\n",
       "       'на покупку своего автомобиля',\n",
       "       'операции с коммерческой недвижимостью',\n",
       "       'строительство жилой недвижимости', 'жилье',\n",
       "       'операции со своей недвижимостью', 'автомобили',\n",
       "       'заняться образованием', 'сделка с подержанным автомобилем',\n",
       "       'получение образования', 'автомобиль', 'свадьба',\n",
       "       'получение дополнительного образования', 'покупка своего жилья',\n",
       "       'операции с недвижимостью', 'получение высшего образования',\n",
       "       'свой автомобиль', 'сделка с автомобилем',\n",
       "       'профильное образование', 'высшее образование',\n",
       "       'покупка жилья для сдачи', 'на покупку автомобиля', 'ремонт жилью',\n",
       "       'заняться высшим образованием'], dtype=object)"
      ]
     },
     "execution_count": 20,
     "metadata": {},
     "output_type": "execute_result"
    }
   ],
   "source": [
    "data['purpose'].unique()"
   ]
  },
  {
   "cell_type": "markdown",
   "id": "85d0aef0",
   "metadata": {
    "deletable": false,
    "id": "85d0aef0"
   },
   "source": [
    "**Задание 18. Создайте функцию, которая на основании данных из столбца `purpose` сформирует новый столбец `purpose_category`, в который войдут следующие категории:**\n",
    "\n",
    "- `'операции с автомобилем'`,\n",
    "- `'операции с недвижимостью'`,\n",
    "- `'проведение свадьбы'`,\n",
    "- `'получение образования'`.\n",
    "\n",
    "**Например, если в столбце `purpose` находится подстрока `'на покупку автомобиля'`, то в столбце `purpose_category` должна появиться строка `'операции с автомобилем'`.**\n",
    "\n",
    "**Используйте собственную функцию с именем `categorize_purpose()` и метод `apply()`. Изучите данные в столбце `purpose` и определите, какие подстроки помогут вам правильно определить категорию.**"
   ]
  },
  {
   "cell_type": "code",
   "execution_count": 21,
   "id": "e149fab4",
   "metadata": {
    "deletable": false,
    "id": "e149fab4"
   },
   "outputs": [],
   "source": [
    "def categorize_purpose(row):\n",
    "    try:\n",
    "        if 'автом' in row:\n",
    "            return 'операции с автомобилем'\n",
    "        elif 'жил' in row or 'недвиж' in row:\n",
    "            return 'операции с недвижимостью'\n",
    "        elif 'свад' in row:\n",
    "            return 'проведение свадьбы'\n",
    "        elif 'образов' in row:\n",
    "            return 'получение образования'\n",
    "    except:\n",
    "        return 'нет категории'"
   ]
  },
  {
   "cell_type": "code",
   "execution_count": 22,
   "id": "bf36e69b",
   "metadata": {
    "deletable": false,
    "id": "bf36e69b"
   },
   "outputs": [],
   "source": [
    "data['purpose_category'] = data['purpose'].apply(categorize_purpose)"
   ]
  },
  {
   "cell_type": "markdown",
   "id": "09b242bf",
   "metadata": {
    "deletable": false,
    "editable": false,
    "id": "09b242bf"
   },
   "source": [
    "## Исследуйте данные и ответьте на вопросы"
   ]
  },
  {
   "cell_type": "markdown",
   "id": "c5d66278",
   "metadata": {
    "deletable": false,
    "editable": false,
    "id": "c5d66278"
   },
   "source": [
    "**Задание 19. Есть ли зависимость между количеством детей и возвратом кредита в срок?**"
   ]
  },
  {
   "cell_type": "code",
   "execution_count": 23,
   "id": "42a9217b",
   "metadata": {},
   "outputs": [
    {
     "data": {
      "text/plain": [
       "children\n",
       "0    1063\n",
       "1     444\n",
       "2     194\n",
       "3      27\n",
       "4       4\n",
       "5       0\n",
       "Name: debt, dtype: int64"
      ]
     },
     "execution_count": 23,
     "metadata": {},
     "output_type": "execute_result"
    }
   ],
   "source": [
    "data.groupby('children')['debt'].sum() # количество задолжностей"
   ]
  },
  {
   "cell_type": "code",
   "execution_count": 24,
   "id": "565f06c6",
   "metadata": {},
   "outputs": [
    {
     "data": {
      "text/plain": [
       "children\n",
       "0    14107\n",
       "1     4809\n",
       "2     2052\n",
       "3      330\n",
       "4       41\n",
       "5        9\n",
       "Name: children, dtype: int64"
      ]
     },
     "execution_count": 24,
     "metadata": {},
     "output_type": "execute_result"
    }
   ],
   "source": [
    "data.groupby('children')['children'].count() # количество людей с разных количеством детей"
   ]
  },
  {
   "cell_type": "code",
   "execution_count": 25,
   "id": "53fc072b",
   "metadata": {},
   "outputs": [
    {
     "data": {
      "text/plain": [
       "children\n",
       "0    7.535266\n",
       "1    9.232689\n",
       "2    9.454191\n",
       "3    8.181818\n",
       "4    9.756098\n",
       "5    0.000000\n",
       "dtype: float64"
      ]
     },
     "execution_count": 25,
     "metadata": {},
     "output_type": "execute_result"
    }
   ],
   "source": [
    "data.groupby('children')['debt'].sum() / data.groupby('children')['children'].count() *100 # доля задолжностей, отнесенная \n",
    "# к количеству людей с данным количеством детей"
   ]
  },
  {
   "cell_type": "markdown",
   "id": "1e19bd3b",
   "metadata": {},
   "source": [
    "<div class=\"alert alert-success\">\n",
    "<h2> Комментарий ревьюера ✔️ <a class=\"tocSkip\"> </h2>\n",
    "\n",
    "А вот как можно было сократить решение. Обрати внимание на [style](https://pandas.pydata.org/pandas-docs/stable/user_guide/style.html) библиотеки `pandas`. Там много прикольных штук для того, чтобы сделать датафрейм красивее 😊"
   ]
  },
  {
   "cell_type": "code",
   "execution_count": 26,
   "id": "738b0c73",
   "metadata": {},
   "outputs": [
    {
     "data": {
      "text/html": [
       "<style  type=\"text/css\" >\n",
       "</style><table id=\"T_788a5_\" ><thead>    <tr>        <th class=\"blank level0\" ></th>        <th class=\"col_heading level0 col0\" >Кол-во пользователей</th>        <th class=\"col_heading level0 col1\" >Кол-во должников</th>        <th class=\"col_heading level0 col2\" >% должников</th>        <th class=\"col_heading level0 col3\" >% НЕдолжников</th>    </tr>    <tr>        <th class=\"index_name level0\" >children_group</th>        <th class=\"blank\" ></th>        <th class=\"blank\" ></th>        <th class=\"blank\" ></th>        <th class=\"blank\" ></th>    </tr></thead><tbody>\n",
       "                <tr>\n",
       "                        <th id=\"T_788a5_level0_row0\" class=\"row_heading level0 row0\" >Дети есть</th>\n",
       "                        <td id=\"T_788a5_row0_col0\" class=\"data row0 col0\" >7241</td>\n",
       "                        <td id=\"T_788a5_row0_col1\" class=\"data row0 col1\" >669</td>\n",
       "                        <td id=\"T_788a5_row0_col2\" class=\"data row0 col2\" >9.24%</td>\n",
       "                        <td id=\"T_788a5_row0_col3\" class=\"data row0 col3\" >90.76%</td>\n",
       "            </tr>\n",
       "            <tr>\n",
       "                        <th id=\"T_788a5_level0_row1\" class=\"row_heading level0 row1\" >Нет детей</th>\n",
       "                        <td id=\"T_788a5_row1_col0\" class=\"data row1 col0\" >14107</td>\n",
       "                        <td id=\"T_788a5_row1_col1\" class=\"data row1 col1\" >1063</td>\n",
       "                        <td id=\"T_788a5_row1_col2\" class=\"data row1 col2\" >7.54%</td>\n",
       "                        <td id=\"T_788a5_row1_col3\" class=\"data row1 col3\" >92.46%</td>\n",
       "            </tr>\n",
       "    </tbody></table>"
      ],
      "text/plain": [
       "<pandas.io.formats.style.Styler at 0x7f3a8069d520>"
      ]
     },
     "execution_count": 26,
     "metadata": {},
     "output_type": "execute_result"
    }
   ],
   "source": [
    "data['children_group'] = data['children'].apply(lambda x: 'Нет детей' if x == 0 else 'Дети есть')\n",
    "\n",
    "df_example = data.groupby('children_group')['debt'].agg(['count', 'sum', 'mean', lambda x: 1 - x.mean()])\n",
    "df_example.columns = ['Кол-во пользователей', 'Кол-во должников', '% должников', '% НЕдолжников']\n",
    "df_example.style.format({'% должников': '{:.2%}', '% НЕдолжников': '{:.2%}'})"
   ]
  },
  {
   "cell_type": "markdown",
   "id": "3a6b99ec",
   "metadata": {
    "deletable": false,
    "id": "3a6b99ec"
   },
   "source": [
    "**Вывод:** Явной зависимости между количеством детей и возвратом кредита в срок есть. Доля задолжностей у людей количеством детей 1,2 и 4 вырьируется от 9,2 до 9,8%. Доля задолжностей у людей с 3 детьми и  без детей составляет 8,18 и 7,5%, соотвественно. Делать выводы по поводу категории людей с пятью детьми трудно, т.к. выборка состоит из 9 случаев. \n",
    "\n",
    "Получается, наименьшая вероятность задолжности кредита у людей без детей."
   ]
  },
  {
   "cell_type": "markdown",
   "id": "97be82ca",
   "metadata": {
    "deletable": false,
    "editable": false,
    "id": "97be82ca"
   },
   "source": [
    "**Задание 20. Есть ли зависимость между семейным положением и возвратом кредита в срок?**"
   ]
  },
  {
   "cell_type": "code",
   "execution_count": 27,
   "id": "0f0c8733",
   "metadata": {},
   "outputs": [
    {
     "data": {
      "text/plain": [
       "family_status\n",
       "Не женат / не замужем    273\n",
       "в разводе                 84\n",
       "вдовец / вдова            63\n",
       "гражданский брак         385\n",
       "женат / замужем          927\n",
       "Name: debt, dtype: int64"
      ]
     },
     "execution_count": 27,
     "metadata": {},
     "output_type": "execute_result"
    }
   ],
   "source": [
    "data.groupby('family_status')['debt'].sum()\n",
    "# print (debts)"
   ]
  },
  {
   "cell_type": "code",
   "execution_count": 28,
   "id": "bdb15999",
   "metadata": {},
   "outputs": [
    {
     "name": "stdout",
     "output_type": "stream",
     "text": [
      "                       debt\n",
      "family_status              \n",
      "Не женат / не замужем   273\n",
      "в разводе                84\n",
      "вдовец / вдова           63\n",
      "гражданский брак        385\n",
      "женат / замужем         927\n"
     ]
    }
   ],
   "source": [
    "debts = data.pivot_table(index='family_status', values='debt', aggfunc='sum')\n",
    "print(debts)"
   ]
  },
  {
   "cell_type": "code",
   "execution_count": 29,
   "id": "20166d24",
   "metadata": {},
   "outputs": [
    {
     "data": {
      "text/plain": [
       "family_status\n",
       "Не женат / не замужем     2796\n",
       "в разводе                 1189\n",
       "вдовец / вдова             951\n",
       "гражданский брак          4146\n",
       "женат / замужем          12266\n",
       "Name: family_status, dtype: int64"
      ]
     },
     "execution_count": 29,
     "metadata": {},
     "output_type": "execute_result"
    }
   ],
   "source": [
    "data.groupby('family_status')['family_status'].count()\n"
   ]
  },
  {
   "cell_type": "code",
   "execution_count": 30,
   "id": "adeffeb7",
   "metadata": {},
   "outputs": [
    {
     "data": {
      "text/html": [
       "<div>\n",
       "<style scoped>\n",
       "    .dataframe tbody tr th:only-of-type {\n",
       "        vertical-align: middle;\n",
       "    }\n",
       "\n",
       "    .dataframe tbody tr th {\n",
       "        vertical-align: top;\n",
       "    }\n",
       "\n",
       "    .dataframe thead th {\n",
       "        text-align: right;\n",
       "    }\n",
       "</style>\n",
       "<table border=\"1\" class=\"dataframe\">\n",
       "  <thead>\n",
       "    <tr style=\"text-align: right;\">\n",
       "      <th></th>\n",
       "      <th>debt</th>\n",
       "      <th>family_status</th>\n",
       "      <th>0</th>\n",
       "    </tr>\n",
       "    <tr>\n",
       "      <th>family_status</th>\n",
       "      <th></th>\n",
       "      <th></th>\n",
       "      <th></th>\n",
       "    </tr>\n",
       "  </thead>\n",
       "  <tbody>\n",
       "    <tr>\n",
       "      <th>Не женат / не замужем</th>\n",
       "      <td>273</td>\n",
       "      <td>2796</td>\n",
       "      <td>9.763948</td>\n",
       "    </tr>\n",
       "    <tr>\n",
       "      <th>в разводе</th>\n",
       "      <td>84</td>\n",
       "      <td>1189</td>\n",
       "      <td>7.064760</td>\n",
       "    </tr>\n",
       "    <tr>\n",
       "      <th>вдовец / вдова</th>\n",
       "      <td>63</td>\n",
       "      <td>951</td>\n",
       "      <td>6.624606</td>\n",
       "    </tr>\n",
       "    <tr>\n",
       "      <th>гражданский брак</th>\n",
       "      <td>385</td>\n",
       "      <td>4146</td>\n",
       "      <td>9.286059</td>\n",
       "    </tr>\n",
       "    <tr>\n",
       "      <th>женат / замужем</th>\n",
       "      <td>927</td>\n",
       "      <td>12266</td>\n",
       "      <td>7.557476</td>\n",
       "    </tr>\n",
       "  </tbody>\n",
       "</table>\n",
       "</div>"
      ],
      "text/plain": [
       "                       debt  family_status         0\n",
       "family_status                                       \n",
       "Не женат / не замужем   273           2796  9.763948\n",
       "в разводе                84           1189  7.064760\n",
       "вдовец / вдова           63            951  6.624606\n",
       "гражданский брак        385           4146  9.286059\n",
       "женат / замужем         927          12266  7.557476"
      ]
     },
     "execution_count": 30,
     "metadata": {},
     "output_type": "execute_result"
    }
   ],
   "source": [
    "pd.concat((debts,data.groupby('family_status')['family_status'].count(),data.groupby('family_status')['debt'].sum() / data.groupby('family_status')['family_status'].count() * 100),axis=1)\n",
    "\n",
    "\n"
   ]
  },
  {
   "cell_type": "markdown",
   "id": "1cef7837",
   "metadata": {
    "deletable": false,
    "id": "1cef7837"
   },
   "source": [
    "**Вывод:** зависимость между семейным положением и возвратом кредита в срок существует. Категории \"Не женат / не замужем\" и \"гражданский брак\" имеют самый большой процент задолжностей - 9,76% и 9,29%, соотвественно. Затем следуют категории \"женат / замужем  \" и \"в разводе\", имеющие долю задолжностей 7,56% и 7,06%, соотвественно. Наименьшую долю задолжностей имеет категория \"вдовец / вдова\" -  6,62%. "
   ]
  },
  {
   "cell_type": "markdown",
   "id": "e5c4e8a0",
   "metadata": {},
   "source": [
    "<div class=\"alert alert-danger\">\n",
    "<h2> Комментарий ревьюера ❌ <a class=\"tocSkip\"> </h2>\n",
    "\n",
    "Альтернатива `groupby` - это [pivot_table](https://pandas.pydata.org/pandas-docs/stable/reference/api/pandas.pivot_table.html). Это очень популярный и нужный инструмент, важно иметь его в арсенале, и мне нужно убедиться, что ты умеешь им пользоваться. Реализуй то же самое используя `pivot_table()` и дай комментарии, какой из методов удобнее для тебя."
   ]
  },
  {
   "cell_type": "markdown",
   "id": "4d8cbbc4",
   "metadata": {},
   "source": [
    "КОММЕТАРИЙ:\n",
    "\n",
    "использовала pivot_table в первом случае при нахождениеи количества debts. В остальных случаях выдавал ошибку,например, \"Grouper for 'family_status' not 1-dimensional\", поэтому просто решила соединить эти данные в одну таблицу. В одной функции pivot_table тоже не получилось сделать. \n",
    "\n",
    "groupby удобнее метод, тк мы больше на нем тренировались, и понятно, что от чего следует. pivot_table по сути изучала сама. "
   ]
  },
  {
   "cell_type": "markdown",
   "id": "49ec88ba",
   "metadata": {},
   "source": [
    "<div class=\"alert alert-success\">\n",
    "<h2> Комментарий ревьюера v2 ✔️ <a class=\"tocSkip\"> </h2>\n",
    "\n",
    "Было бы круто, если ты оставила код, тогда я бы точечно мог тебе подсказать, в чем проблема... Показал, как то же самое можно реализовать с помощью pivot_table"
   ]
  },
  {
   "cell_type": "code",
   "execution_count": 31,
   "id": "3ed92958",
   "metadata": {},
   "outputs": [
    {
     "data": {
      "text/html": [
       "<style  type=\"text/css\" >\n",
       "</style><table id=\"T_9e782_\" ><thead>    <tr>        <th class=\"blank level0\" ></th>        <th class=\"col_heading level0 col0\" >Кол-во пользователей</th>        <th class=\"col_heading level0 col1\" >Кол-во должников</th>        <th class=\"col_heading level0 col2\" >% должников</th>        <th class=\"col_heading level0 col3\" >% НЕдолжников</th>    </tr>    <tr>        <th class=\"index_name level0\" >children_group</th>        <th class=\"blank\" ></th>        <th class=\"blank\" ></th>        <th class=\"blank\" ></th>        <th class=\"blank\" ></th>    </tr></thead><tbody>\n",
       "                <tr>\n",
       "                        <th id=\"T_9e782_level0_row0\" class=\"row_heading level0 row0\" >Дети есть</th>\n",
       "                        <td id=\"T_9e782_row0_col0\" class=\"data row0 col0\" >7241</td>\n",
       "                        <td id=\"T_9e782_row0_col1\" class=\"data row0 col1\" >669</td>\n",
       "                        <td id=\"T_9e782_row0_col2\" class=\"data row0 col2\" >9.24%</td>\n",
       "                        <td id=\"T_9e782_row0_col3\" class=\"data row0 col3\" >90.76%</td>\n",
       "            </tr>\n",
       "            <tr>\n",
       "                        <th id=\"T_9e782_level0_row1\" class=\"row_heading level0 row1\" >Нет детей</th>\n",
       "                        <td id=\"T_9e782_row1_col0\" class=\"data row1 col0\" >14107</td>\n",
       "                        <td id=\"T_9e782_row1_col1\" class=\"data row1 col1\" >1063</td>\n",
       "                        <td id=\"T_9e782_row1_col2\" class=\"data row1 col2\" >7.54%</td>\n",
       "                        <td id=\"T_9e782_row1_col3\" class=\"data row1 col3\" >92.46%</td>\n",
       "            </tr>\n",
       "    </tbody></table>"
      ],
      "text/plain": [
       "<pandas.io.formats.style.Styler at 0x7f3a161fdca0>"
      ]
     },
     "execution_count": 31,
     "metadata": {},
     "output_type": "execute_result"
    }
   ],
   "source": [
    "df_example = data.pivot_table(index = 'children_group', values = 'debt', \n",
    "                            aggfunc = ['count', 'sum', 'mean', lambda x: 1 - x.mean()])\n",
    "df_example.columns = ['Кол-во пользователей', 'Кол-во должников', '% должников', '% НЕдолжников']\n",
    "df_example.style.format({'% должников': '{:.2%}', '% НЕдолжников': '{:.2%}'})"
   ]
  },
  {
   "cell_type": "markdown",
   "id": "ab952d0a",
   "metadata": {},
   "source": [
    "<div class=\"alert alert-info\">\n",
    "<h2> Комментарий ревьюера v2 <a class=\"tocSkip\"> </h2>\n",
    "\n",
    "И еще, свои комментария лучше выделять цветом, можно так) Оставлю еще [ссылку на Medium](https://medium.com/analytics-vidhya/the-ultimate-markdown-guide-for-jupyter-notebook-d5e5abf728fd), там очень круто расписаны Markdown, и еще вот такую [шпаргалку](https://paulradzkov.com/2014/markdown_cheatsheet/), вдруг понадобится 🙂\n",
    "    \n",
    "</div>"
   ]
  },
  {
   "cell_type": "markdown",
   "id": "1e8b2fca",
   "metadata": {
    "deletable": false,
    "editable": false,
    "id": "1e8b2fca"
   },
   "source": [
    "**Задание 21. Есть ли зависимость между уровнем дохода и возвратом кредита в срок?**"
   ]
  },
  {
   "cell_type": "code",
   "execution_count": 32,
   "id": "cd7e3720",
   "metadata": {
    "id": "cd7e3720"
   },
   "outputs": [
    {
     "data": {
      "text/plain": [
       "total_income_category\n",
       "A       2\n",
       "B     354\n",
       "C    1353\n",
       "D      21\n",
       "E       2\n",
       "Name: debt, dtype: int64"
      ]
     },
     "execution_count": 32,
     "metadata": {},
     "output_type": "execute_result"
    }
   ],
   "source": [
    "data.groupby('total_income_category')['debt'].sum() # Ваш код будет здесь. Вы можете создавать новые ячейки."
   ]
  },
  {
   "cell_type": "code",
   "execution_count": 33,
   "id": "abd154a3",
   "metadata": {},
   "outputs": [
    {
     "name": "stdout",
     "output_type": "stream",
     "text": [
      "total_income_category\n",
      "A       25\n",
      "B     5014\n",
      "C    15938\n",
      "D      349\n",
      "E       22\n",
      "Name: total_income_category, dtype: int64\n",
      "<class 'pandas.core.frame.DataFrame'>\n",
      "Int64Index: 21348 entries, 0 to 21524\n",
      "Data columns (total 15 columns):\n",
      " #   Column                 Non-Null Count  Dtype  \n",
      "---  ------                 --------------  -----  \n",
      " 0   children               21348 non-null  int64  \n",
      " 1   days_employed          21348 non-null  float64\n",
      " 2   dob_years              21348 non-null  int64  \n",
      " 3   education              21348 non-null  object \n",
      " 4   education_id           21348 non-null  int64  \n",
      " 5   family_status          21348 non-null  object \n",
      " 6   family_status_id       21348 non-null  int64  \n",
      " 7   gender                 21348 non-null  object \n",
      " 8   income_type            21348 non-null  object \n",
      " 9   debt                   21348 non-null  int64  \n",
      " 10  total_income           21348 non-null  int64  \n",
      " 11  purpose                21348 non-null  object \n",
      " 12  total_income_category  21348 non-null  object \n",
      " 13  purpose_category       21348 non-null  object \n",
      " 14  children_group         21348 non-null  object \n",
      "dtypes: float64(1), int64(6), object(8)\n",
      "memory usage: 3.1+ MB\n"
     ]
    }
   ],
   "source": [
    "print(data.groupby('total_income_category')['total_income_category'].count())\n",
    "data.info()"
   ]
  },
  {
   "cell_type": "code",
   "execution_count": 34,
   "id": "1b25bb46",
   "metadata": {},
   "outputs": [
    {
     "data": {
      "text/plain": [
       "total_income_category\n",
       "A    8.000000\n",
       "B    7.060231\n",
       "C    8.489145\n",
       "D    6.017192\n",
       "E    9.090909\n",
       "dtype: float64"
      ]
     },
     "execution_count": 34,
     "metadata": {},
     "output_type": "execute_result"
    }
   ],
   "source": [
    "data.groupby('total_income_category')['debt'].sum() / data.groupby('total_income_category')['total_income_category'].count() * 100"
   ]
  },
  {
   "cell_type": "markdown",
   "id": "c30bf3a6",
   "metadata": {},
   "source": [
    "<div class=\"alert alert-success\">\n",
    "<h2> Комментарий ревьюера ✔️ <a class=\"tocSkip\"> </h2>\n",
    "\n",
    "Здесь, наверное, стоит подумать над другой разбивкой, например, по процентилям. Слишком большая разница в кол-ве пользователей по группам. Тогда можно воспользоваться методами [cut](https://pandas.pydata.org/pandas-docs/stable/reference/api/pandas.cut.html) или [qcut](https://pandas.pydata.org/pandas-docs/stable/reference/api/pandas.qcut.html)(в этом случае деление будет проводиться по проценилям). Обрати внимание, у данного метода есть параметр `labels`, так можно оформить группы красивее 😊"
   ]
  },
  {
   "cell_type": "markdown",
   "id": "e8593def",
   "metadata": {
    "deletable": false,
    "id": "e8593def"
   },
   "source": [
    "**Вывод:** зависимость между уровнем дохода и возвратом кредита в срок существует. Категория \"С\" имеет один из наибольших процентов задолжностей - 8,49%. Затем следуют категории \"B\" и \"D\", имеющие долю задолжностей 7,06% и 6,02%, соотвественно. Говорить о том, что категория \"E\" имеет самый большой процент задолжностей трудно, потому что количество людей данной категории равно 22 из 21348 возможных, то есть недостаточно кейсов. Тоже самое про группу \"A\".\n",
    "\n",
    "Но, в целом, процент задолжностей категорий варьируется от 6% до 9%. "
   ]
  },
  {
   "cell_type": "markdown",
   "id": "99ecbd1f",
   "metadata": {
    "deletable": false,
    "editable": false,
    "id": "99ecbd1f"
   },
   "source": [
    "**Задание 22. Как разные цели кредита влияют на его возврат в срок?**"
   ]
  },
  {
   "cell_type": "code",
   "execution_count": 35,
   "id": "2b687290",
   "metadata": {
    "id": "2b687290"
   },
   "outputs": [
    {
     "data": {
      "text/plain": [
       "purpose_category\n",
       "операции с автомобилем      400\n",
       "операции с недвижимостью    780\n",
       "получение образования       369\n",
       "проведение свадьбы          183\n",
       "Name: debt, dtype: int64"
      ]
     },
     "execution_count": 35,
     "metadata": {},
     "output_type": "execute_result"
    }
   ],
   "source": [
    "data.groupby('purpose_category')['debt'].sum()# Ваш код будет здесь. Вы можете создавать новые ячейки."
   ]
  },
  {
   "cell_type": "code",
   "execution_count": 36,
   "id": "eb35cec8",
   "metadata": {},
   "outputs": [
    {
     "data": {
      "text/plain": [
       "purpose_category\n",
       "операции с автомобилем       4281\n",
       "операции с недвижимостью    10754\n",
       "получение образования        3989\n",
       "проведение свадьбы           2324\n",
       "Name: purpose_category, dtype: int64"
      ]
     },
     "execution_count": 36,
     "metadata": {},
     "output_type": "execute_result"
    }
   ],
   "source": [
    "data.groupby('purpose_category')['purpose_category'].count()"
   ]
  },
  {
   "cell_type": "code",
   "execution_count": 37,
   "id": "0fd7c134",
   "metadata": {},
   "outputs": [
    {
     "data": {
      "text/plain": [
       "purpose_category\n",
       "операции с автомобилем      9.343611\n",
       "операции с недвижимостью    7.253115\n",
       "получение образования       9.250439\n",
       "проведение свадьбы          7.874355\n",
       "dtype: float64"
      ]
     },
     "execution_count": 37,
     "metadata": {},
     "output_type": "execute_result"
    }
   ],
   "source": [
    "data.groupby('purpose_category')['debt'].sum() / data.groupby('purpose_category')['purpose_category'].count() * 100"
   ]
  },
  {
   "cell_type": "markdown",
   "id": "d5307cb2",
   "metadata": {},
   "source": [
    "<div style=\"border:solid purple 5px; padding: 20px\"> \n",
    "<h2 align=\"center\"> Рубрика «Питонячий лайфхакер» <a class=\"tocSkip\"> </h2>\n",
    "\n",
    "<h3> Широкоформатный Jupyter <a class=\"tocSkip\"> </h3>\n",
    "\n",
    "Расширяем границы, или как сделать работу более комфортной (не всем нравится 😄)\n",
    "\n",
    "    from IPython.core.display import display, HTML\n",
    "    display(HTML(\"<style>.container { width:90% !important; }</style>\"))"
   ]
  },
  {
   "cell_type": "markdown",
   "id": "b4bb2ce6",
   "metadata": {
    "deletable": false,
    "id": "b4bb2ce6"
   },
   "source": [
    "**Вывод:** Категории целей \"операции с автомобилем\" и \"получение образования \" имеют самый большой процент задолжностей - 9,34% и 9,25%, соотвественно. Затем следуют категории целей \"проведение свадьбы \" и \"операции с недвижимостью\", имеющие долю задолжностей 7,87% и 7,25%, соотвественно."
   ]
  },
  {
   "cell_type": "markdown",
   "id": "09c3ac4c",
   "metadata": {
    "deletable": false,
    "editable": false,
    "id": "09c3ac4c"
   },
   "source": [
    "**Задание 23. Приведите возможные причины появления пропусков в исходных данных.**"
   ]
  },
  {
   "cell_type": "markdown",
   "id": "9da2ceda",
   "metadata": {
    "deletable": false,
    "id": "9da2ceda"
   },
   "source": [
    "*Ответ:* пропуски в исходных данных были в колоннах days_employed и total_income. Т.к. количество пропусков в столбцах стажа и дохода одинаковое, есть вероятность, что это случайные пропуски. То есть без стажа работы нет и ежемесячного дохода.\n",
    "\n",
    "Также могут быть полностью случайные пропуски, то есть случайно не указаны данные о стаже и доходе. "
   ]
  },
  {
   "cell_type": "markdown",
   "id": "7b0487d6",
   "metadata": {
    "deletable": false,
    "editable": false,
    "id": "7b0487d6"
   },
   "source": [
    "**Задание 24. Объясните, почему заполнить пропуски медианным значением — лучшее решение для количественных переменных.**"
   ]
  },
  {
   "cell_type": "markdown",
   "id": "7ecf2b8e",
   "metadata": {
    "deletable": false,
    "id": "7ecf2b8e"
   },
   "source": [
    "*Ответ:* медианное значение более корректно характеризует данные, когда некоторые значения сильно выделяются среди большинства, чем среднее значение. Например:"
   ]
  },
  {
   "cell_type": "markdown",
   "id": "d192b8d5",
   "metadata": {},
   "source": [
    "<div class=\"alert alert-success\">\n",
    "<h2> Комментарий ревьюера ✔️ <a class=\"tocSkip\"> </h2>\n",
    "\n",
    "Да, согласен"
   ]
  },
  {
   "cell_type": "code",
   "execution_count": 38,
   "id": "7898e4e9",
   "metadata": {
    "scrolled": true
   },
   "outputs": [
    {
     "name": "stdout",
     "output_type": "stream",
     "text": [
      "                          mean         median\n",
      "                 days_employed  days_employed\n",
      "income_type                                  \n",
      "безработный      366413.652744  366413.652744\n",
      "в декрете          3296.759962    3296.759962\n",
      "госслужащий        3332.636454    2689.137274\n",
      "компаньон          2062.683448    1555.947387\n",
      "пенсионер        365051.861219  365286.622650\n",
      "предприниматель     520.848083     520.848083\n",
      "сотрудник          2250.511445    1572.328285\n",
      "студент             578.751554     578.751554\n"
     ]
    }
   ],
   "source": [
    "data_pivot = data.pivot_table(index='income_type', values='days_employed', aggfunc=['mean','median'])\n",
    "print(data_pivot)"
   ]
  },
  {
   "cell_type": "markdown",
   "id": "64a3468e",
   "metadata": {},
   "source": [
    "Видим, что среднее и медианное значения разнятся. Медианное значение тем лучше, что при выборке, например, 100,100,100, 700, пропущенное значение будет занято 100, приближенное к общей тенденции выборки, а не 250, которое является средним арифметическим. "
   ]
  },
  {
   "cell_type": "markdown",
   "id": "6db5255a",
   "metadata": {
    "deletable": false,
    "editable": false,
    "id": "6db5255a"
   },
   "source": [
    "## Общий вывод."
   ]
  },
  {
   "cell_type": "markdown",
   "id": "bad65432",
   "metadata": {
    "id": "bad65432"
   },
   "source": [
    "В ходе анализа было выяснено, что семейное положение, количество детей, цель и уровень дохода влияет на факт погашения кредита в срок. \n",
    "\n",
    "В пределах категорий процент задолжности  варьировался от 6 до 9,5%. \n",
    "\n",
    "С самой большой долей задолжностей оказались категории с количеством детей 1,2 и 4, \"Не женат / не замужем\" и \"гражданский брак\",\"операции с автомобилем\" и \"получение образования \" - выше 9%. \n",
    "\n",
    "С наименьшей долей задолжностей оказались категории \"без детей\", \"в разводе\" и \"вдовец / вдова\", \"B\" и \"D\", \"операции с недвижимостью\" - менее 7,5%"
   ]
  }
 ],
 "metadata": {
  "ExecuteTimeLog": [
   {
    "duration": 479,
    "start_time": "2022-07-19T21:16:33.409Z"
   },
   {
    "duration": 38,
    "start_time": "2022-07-19T21:16:33.891Z"
   },
   {
    "duration": 18,
    "start_time": "2022-07-19T21:16:33.932Z"
   },
   {
    "duration": 11,
    "start_time": "2022-07-19T21:16:33.952Z"
   },
   {
    "duration": 56,
    "start_time": "2022-07-19T21:16:33.965Z"
   },
   {
    "duration": 4,
    "start_time": "2022-07-19T21:16:34.023Z"
   },
   {
    "duration": 29,
    "start_time": "2022-07-19T21:16:34.029Z"
   },
   {
    "duration": 19,
    "start_time": "2022-07-19T21:16:34.059Z"
   },
   {
    "duration": 13,
    "start_time": "2022-07-19T21:16:34.079Z"
   },
   {
    "duration": 34,
    "start_time": "2022-07-19T21:16:34.093Z"
   },
   {
    "duration": 58,
    "start_time": "2022-07-19T21:16:34.130Z"
   },
   {
    "duration": 18,
    "start_time": "2022-07-19T21:16:34.190Z"
   },
   {
    "duration": 15,
    "start_time": "2022-07-19T21:16:34.216Z"
   },
   {
    "duration": 17,
    "start_time": "2022-07-19T21:16:34.234Z"
   },
   {
    "duration": 22,
    "start_time": "2022-07-19T21:16:34.253Z"
   },
   {
    "duration": 16,
    "start_time": "2022-07-19T21:16:34.277Z"
   },
   {
    "duration": 9,
    "start_time": "2022-07-19T21:16:34.295Z"
   },
   {
    "duration": 27,
    "start_time": "2022-07-19T21:16:34.305Z"
   },
   {
    "duration": 5,
    "start_time": "2022-07-19T21:16:34.334Z"
   },
   {
    "duration": 5,
    "start_time": "2022-07-19T21:16:34.341Z"
   },
   {
    "duration": 12,
    "start_time": "2022-07-19T21:16:34.347Z"
   },
   {
    "duration": 8,
    "start_time": "2022-07-19T21:16:34.361Z"
   },
   {
    "duration": 8,
    "start_time": "2022-07-19T21:16:34.370Z"
   },
   {
    "duration": 7,
    "start_time": "2022-07-19T21:16:34.380Z"
   },
   {
    "duration": 4,
    "start_time": "2022-07-19T21:16:34.389Z"
   },
   {
    "duration": 54,
    "start_time": "2022-07-20T18:20:55.986Z"
   },
   {
    "duration": 524,
    "start_time": "2022-07-20T18:21:02.050Z"
   },
   {
    "duration": 23,
    "start_time": "2022-07-20T18:21:02.576Z"
   },
   {
    "duration": 15,
    "start_time": "2022-07-20T18:21:02.601Z"
   },
   {
    "duration": 8,
    "start_time": "2022-07-20T18:21:02.618Z"
   },
   {
    "duration": 48,
    "start_time": "2022-07-20T18:21:02.628Z"
   },
   {
    "duration": 4,
    "start_time": "2022-07-20T18:21:02.681Z"
   },
   {
    "duration": 9,
    "start_time": "2022-07-20T18:21:02.686Z"
   },
   {
    "duration": 4,
    "start_time": "2022-07-20T18:21:02.696Z"
   },
   {
    "duration": 9,
    "start_time": "2022-07-20T18:21:02.701Z"
   },
   {
    "duration": 4,
    "start_time": "2022-07-20T18:21:02.712Z"
   },
   {
    "duration": 58,
    "start_time": "2022-07-20T18:21:02.717Z"
   },
   {
    "duration": 11,
    "start_time": "2022-07-20T18:21:02.777Z"
   },
   {
    "duration": 8,
    "start_time": "2022-07-20T18:21:02.789Z"
   },
   {
    "duration": 22,
    "start_time": "2022-07-20T18:21:02.798Z"
   },
   {
    "duration": 15,
    "start_time": "2022-07-20T18:21:02.822Z"
   },
   {
    "duration": 32,
    "start_time": "2022-07-20T18:21:02.838Z"
   },
   {
    "duration": 6,
    "start_time": "2022-07-20T18:21:02.872Z"
   },
   {
    "duration": 12,
    "start_time": "2022-07-20T18:21:02.879Z"
   },
   {
    "duration": 5,
    "start_time": "2022-07-20T18:21:02.892Z"
   },
   {
    "duration": 3,
    "start_time": "2022-07-20T18:21:02.898Z"
   },
   {
    "duration": 12,
    "start_time": "2022-07-20T18:21:02.903Z"
   },
   {
    "duration": 4,
    "start_time": "2022-07-20T18:21:02.916Z"
   },
   {
    "duration": 5,
    "start_time": "2022-07-20T18:23:00.984Z"
   },
   {
    "duration": 6,
    "start_time": "2022-07-20T18:23:50.844Z"
   },
   {
    "duration": 22,
    "start_time": "2022-07-20T18:24:46.077Z"
   },
   {
    "duration": 7,
    "start_time": "2022-07-20T18:44:04.652Z"
   },
   {
    "duration": 8,
    "start_time": "2022-07-20T18:44:42.589Z"
   },
   {
    "duration": 14,
    "start_time": "2022-07-20T18:46:46.475Z"
   },
   {
    "duration": 6,
    "start_time": "2022-07-20T18:48:39.014Z"
   },
   {
    "duration": 124,
    "start_time": "2022-07-20T18:52:57.446Z"
   },
   {
    "duration": 8,
    "start_time": "2022-07-20T18:53:00.274Z"
   },
   {
    "duration": 7,
    "start_time": "2022-07-20T18:53:14.495Z"
   },
   {
    "duration": 8,
    "start_time": "2022-07-20T18:55:05.477Z"
   },
   {
    "duration": 10,
    "start_time": "2022-07-20T18:55:33.939Z"
   },
   {
    "duration": 9,
    "start_time": "2022-07-20T19:05:01.507Z"
   },
   {
    "duration": 8,
    "start_time": "2022-07-20T19:06:01.484Z"
   },
   {
    "duration": 9,
    "start_time": "2022-07-20T19:17:44.000Z"
   },
   {
    "duration": 7,
    "start_time": "2022-07-20T19:18:01.179Z"
   },
   {
    "duration": 36,
    "start_time": "2022-07-20T19:25:28.227Z"
   },
   {
    "duration": 23,
    "start_time": "2022-07-20T19:25:59.584Z"
   },
   {
    "duration": 20,
    "start_time": "2022-07-20T19:26:02.014Z"
   },
   {
    "duration": 22,
    "start_time": "2022-07-20T19:26:05.364Z"
   },
   {
    "duration": 44,
    "start_time": "2022-07-20T19:26:15.250Z"
   },
   {
    "duration": 154,
    "start_time": "2022-07-20T19:26:47.629Z"
   },
   {
    "duration": 15,
    "start_time": "2022-07-20T19:26:47.785Z"
   },
   {
    "duration": 18,
    "start_time": "2022-07-20T19:26:47.802Z"
   },
   {
    "duration": 13,
    "start_time": "2022-07-20T19:26:47.822Z"
   },
   {
    "duration": 45,
    "start_time": "2022-07-20T19:26:47.838Z"
   },
   {
    "duration": 3,
    "start_time": "2022-07-20T19:26:47.887Z"
   },
   {
    "duration": 14,
    "start_time": "2022-07-20T19:26:47.894Z"
   },
   {
    "duration": 4,
    "start_time": "2022-07-20T19:26:47.909Z"
   },
   {
    "duration": 7,
    "start_time": "2022-07-20T19:26:47.914Z"
   },
   {
    "duration": 7,
    "start_time": "2022-07-20T19:26:47.922Z"
   },
   {
    "duration": 56,
    "start_time": "2022-07-20T19:26:47.931Z"
   },
   {
    "duration": 13,
    "start_time": "2022-07-20T19:26:47.990Z"
   },
   {
    "duration": 5,
    "start_time": "2022-07-20T19:26:48.004Z"
   },
   {
    "duration": 26,
    "start_time": "2022-07-20T19:26:48.012Z"
   },
   {
    "duration": 17,
    "start_time": "2022-07-20T19:26:48.040Z"
   },
   {
    "duration": 14,
    "start_time": "2022-07-20T19:26:48.058Z"
   },
   {
    "duration": 16,
    "start_time": "2022-07-20T19:26:48.074Z"
   },
   {
    "duration": 11,
    "start_time": "2022-07-20T19:26:48.092Z"
   },
   {
    "duration": 9,
    "start_time": "2022-07-20T19:26:48.104Z"
   },
   {
    "duration": 3,
    "start_time": "2022-07-20T19:26:48.115Z"
   },
   {
    "duration": 11,
    "start_time": "2022-07-20T19:26:48.119Z"
   },
   {
    "duration": 3,
    "start_time": "2022-07-20T19:26:48.132Z"
   },
   {
    "duration": 21,
    "start_time": "2022-07-20T19:26:48.137Z"
   },
   {
    "duration": 5,
    "start_time": "2022-07-20T19:26:48.160Z"
   },
   {
    "duration": 33,
    "start_time": "2022-07-20T19:26:48.167Z"
   },
   {
    "duration": 6,
    "start_time": "2022-07-20T19:26:48.202Z"
   },
   {
    "duration": 7,
    "start_time": "2022-07-20T19:26:48.210Z"
   },
   {
    "duration": 8,
    "start_time": "2022-07-20T19:26:48.218Z"
   },
   {
    "duration": 8,
    "start_time": "2022-07-20T19:26:48.228Z"
   },
   {
    "duration": 14,
    "start_time": "2022-07-20T19:26:48.252Z"
   },
   {
    "duration": 33,
    "start_time": "2022-07-20T19:26:48.267Z"
   },
   {
    "duration": 8,
    "start_time": "2022-07-20T19:26:48.302Z"
   },
   {
    "duration": 11,
    "start_time": "2022-07-20T19:26:48.312Z"
   },
   {
    "duration": 5,
    "start_time": "2022-07-20T19:26:48.324Z"
   },
   {
    "duration": 4,
    "start_time": "2022-07-20T19:26:48.331Z"
   },
   {
    "duration": 54,
    "start_time": "2022-07-20T19:26:48.337Z"
   },
   {
    "duration": 7,
    "start_time": "2022-07-20T19:27:35.203Z"
   },
   {
    "duration": 7,
    "start_time": "2022-07-20T19:27:36.040Z"
   },
   {
    "duration": 17,
    "start_time": "2022-07-20T19:27:38.947Z"
   },
   {
    "duration": 19,
    "start_time": "2022-07-20T19:27:53.241Z"
   },
   {
    "duration": 10,
    "start_time": "2022-07-20T19:28:12.454Z"
   },
   {
    "duration": 7,
    "start_time": "2022-07-20T19:28:16.585Z"
   },
   {
    "duration": 12,
    "start_time": "2022-07-20T19:29:33.876Z"
   },
   {
    "duration": 11,
    "start_time": "2022-07-20T19:29:59.111Z"
   },
   {
    "duration": 6,
    "start_time": "2022-07-20T19:30:00.974Z"
   },
   {
    "duration": 7,
    "start_time": "2022-07-20T19:30:01.675Z"
   },
   {
    "duration": 11,
    "start_time": "2022-07-20T19:30:02.633Z"
   },
   {
    "duration": 10,
    "start_time": "2022-07-20T19:30:04.999Z"
   },
   {
    "duration": 10,
    "start_time": "2022-07-20T19:30:31.426Z"
   },
   {
    "duration": 364,
    "start_time": "2022-07-20T19:31:00.687Z"
   },
   {
    "duration": 301,
    "start_time": "2022-07-20T19:31:24.214Z"
   },
   {
    "duration": 17,
    "start_time": "2022-07-20T19:31:57.798Z"
   },
   {
    "duration": 6,
    "start_time": "2022-07-20T19:33:14.815Z"
   },
   {
    "duration": 85,
    "start_time": "2022-07-20T19:33:15.512Z"
   },
   {
    "duration": 7,
    "start_time": "2022-07-20T19:33:22.421Z"
   },
   {
    "duration": 10,
    "start_time": "2022-07-20T19:33:23.451Z"
   },
   {
    "duration": 1160,
    "start_time": "2022-07-20T19:44:00.874Z"
   },
   {
    "duration": 29,
    "start_time": "2022-07-20T19:45:59.573Z"
   },
   {
    "duration": 24,
    "start_time": "2022-07-20T19:47:12.788Z"
   },
   {
    "duration": 42,
    "start_time": "2022-07-20T20:27:22.279Z"
   },
   {
    "duration": 17,
    "start_time": "2022-07-20T20:29:02.313Z"
   },
   {
    "duration": 25,
    "start_time": "2022-07-20T20:29:20.314Z"
   },
   {
    "duration": 50,
    "start_time": "2022-07-20T20:30:22.679Z"
   },
   {
    "duration": 28,
    "start_time": "2022-07-20T20:42:09.443Z"
   },
   {
    "duration": 21,
    "start_time": "2022-07-20T20:42:51.772Z"
   },
   {
    "duration": 19,
    "start_time": "2022-07-20T20:43:11.948Z"
   },
   {
    "duration": 9,
    "start_time": "2022-07-20T20:44:04.110Z"
   },
   {
    "duration": 44,
    "start_time": "2022-07-21T12:39:05.695Z"
   },
   {
    "duration": 669,
    "start_time": "2022-07-21T12:39:11.794Z"
   },
   {
    "duration": 22,
    "start_time": "2022-07-21T12:39:12.465Z"
   },
   {
    "duration": 15,
    "start_time": "2022-07-21T12:39:12.489Z"
   },
   {
    "duration": 9,
    "start_time": "2022-07-21T12:39:12.506Z"
   },
   {
    "duration": 46,
    "start_time": "2022-07-21T12:39:12.516Z"
   },
   {
    "duration": 4,
    "start_time": "2022-07-21T12:39:12.564Z"
   },
   {
    "duration": 12,
    "start_time": "2022-07-21T12:39:12.569Z"
   },
   {
    "duration": 5,
    "start_time": "2022-07-21T12:39:12.583Z"
   },
   {
    "duration": 9,
    "start_time": "2022-07-21T12:39:12.589Z"
   },
   {
    "duration": 5,
    "start_time": "2022-07-21T12:39:12.600Z"
   },
   {
    "duration": 49,
    "start_time": "2022-07-21T12:39:12.607Z"
   },
   {
    "duration": 10,
    "start_time": "2022-07-21T12:39:12.657Z"
   },
   {
    "duration": 5,
    "start_time": "2022-07-21T12:39:12.669Z"
   },
   {
    "duration": 20,
    "start_time": "2022-07-21T12:39:12.675Z"
   },
   {
    "duration": 15,
    "start_time": "2022-07-21T12:39:12.697Z"
   },
   {
    "duration": 36,
    "start_time": "2022-07-21T12:39:12.714Z"
   },
   {
    "duration": 8,
    "start_time": "2022-07-21T12:39:12.751Z"
   },
   {
    "duration": 13,
    "start_time": "2022-07-21T12:39:12.760Z"
   },
   {
    "duration": 16,
    "start_time": "2022-07-21T12:39:12.775Z"
   },
   {
    "duration": 3,
    "start_time": "2022-07-21T12:39:12.793Z"
   },
   {
    "duration": 17,
    "start_time": "2022-07-21T12:39:12.797Z"
   },
   {
    "duration": 5,
    "start_time": "2022-07-21T12:39:12.816Z"
   },
   {
    "duration": 3,
    "start_time": "2022-07-21T12:39:12.823Z"
   },
   {
    "duration": 7,
    "start_time": "2022-07-21T12:39:31.393Z"
   },
   {
    "duration": 9,
    "start_time": "2022-07-21T12:40:55.028Z"
   },
   {
    "duration": 47,
    "start_time": "2022-07-21T12:49:01.084Z"
   },
   {
    "duration": 484,
    "start_time": "2022-07-21T12:49:08.148Z"
   },
   {
    "duration": 21,
    "start_time": "2022-07-21T12:49:08.634Z"
   },
   {
    "duration": 14,
    "start_time": "2022-07-21T12:49:08.656Z"
   },
   {
    "duration": 9,
    "start_time": "2022-07-21T12:49:08.672Z"
   },
   {
    "duration": 36,
    "start_time": "2022-07-21T12:49:08.684Z"
   },
   {
    "duration": 4,
    "start_time": "2022-07-21T12:49:08.722Z"
   },
   {
    "duration": 29,
    "start_time": "2022-07-21T12:49:08.727Z"
   },
   {
    "duration": 5,
    "start_time": "2022-07-21T12:49:08.758Z"
   },
   {
    "duration": 14,
    "start_time": "2022-07-21T12:49:08.764Z"
   },
   {
    "duration": 5,
    "start_time": "2022-07-21T12:49:08.780Z"
   },
   {
    "duration": 42,
    "start_time": "2022-07-21T12:49:08.787Z"
   },
   {
    "duration": 13,
    "start_time": "2022-07-21T12:49:08.846Z"
   },
   {
    "duration": 7,
    "start_time": "2022-07-21T12:49:08.861Z"
   },
   {
    "duration": 28,
    "start_time": "2022-07-21T12:49:08.871Z"
   },
   {
    "duration": 20,
    "start_time": "2022-07-21T12:49:08.901Z"
   },
   {
    "duration": 35,
    "start_time": "2022-07-21T12:49:08.923Z"
   },
   {
    "duration": 9,
    "start_time": "2022-07-21T12:49:08.960Z"
   },
   {
    "duration": 19,
    "start_time": "2022-07-21T12:49:08.972Z"
   },
   {
    "duration": 11,
    "start_time": "2022-07-21T12:49:08.993Z"
   },
   {
    "duration": 5,
    "start_time": "2022-07-21T12:49:09.006Z"
   },
   {
    "duration": 15,
    "start_time": "2022-07-21T12:49:09.013Z"
   },
   {
    "duration": 18,
    "start_time": "2022-07-21T12:49:09.030Z"
   },
   {
    "duration": 14,
    "start_time": "2022-07-21T12:49:09.050Z"
   },
   {
    "duration": 7,
    "start_time": "2022-07-21T12:49:13.177Z"
   },
   {
    "duration": 8,
    "start_time": "2022-07-21T12:54:15.673Z"
   },
   {
    "duration": 8,
    "start_time": "2022-07-21T12:59:59.374Z"
   },
   {
    "duration": 10,
    "start_time": "2022-07-21T13:00:38.530Z"
   },
   {
    "duration": 13,
    "start_time": "2022-07-21T13:01:04.440Z"
   },
   {
    "duration": 8,
    "start_time": "2022-07-21T13:05:14.082Z"
   },
   {
    "duration": 11,
    "start_time": "2022-07-21T13:05:35.140Z"
   },
   {
    "duration": 19,
    "start_time": "2022-07-21T13:11:07.945Z"
   },
   {
    "duration": 29,
    "start_time": "2022-07-21T13:11:22.103Z"
   },
   {
    "duration": 14,
    "start_time": "2022-07-21T13:15:19.440Z"
   },
   {
    "duration": 13,
    "start_time": "2022-07-21T13:15:40.415Z"
   },
   {
    "duration": 725,
    "start_time": "2022-07-21T13:59:44.698Z"
   },
   {
    "duration": 21,
    "start_time": "2022-07-21T13:59:45.425Z"
   },
   {
    "duration": 15,
    "start_time": "2022-07-21T13:59:45.447Z"
   },
   {
    "duration": 15,
    "start_time": "2022-07-21T13:59:45.464Z"
   },
   {
    "duration": 35,
    "start_time": "2022-07-21T13:59:45.480Z"
   },
   {
    "duration": 3,
    "start_time": "2022-07-21T13:59:45.517Z"
   },
   {
    "duration": 17,
    "start_time": "2022-07-21T13:59:45.521Z"
   },
   {
    "duration": 4,
    "start_time": "2022-07-21T13:59:45.540Z"
   },
   {
    "duration": 11,
    "start_time": "2022-07-21T13:59:45.545Z"
   },
   {
    "duration": 8,
    "start_time": "2022-07-21T13:59:45.558Z"
   },
   {
    "duration": 46,
    "start_time": "2022-07-21T13:59:45.567Z"
   },
   {
    "duration": 9,
    "start_time": "2022-07-21T13:59:45.614Z"
   },
   {
    "duration": 6,
    "start_time": "2022-07-21T13:59:45.625Z"
   },
   {
    "duration": 23,
    "start_time": "2022-07-21T13:59:45.632Z"
   },
   {
    "duration": 14,
    "start_time": "2022-07-21T13:59:45.657Z"
   },
   {
    "duration": 10,
    "start_time": "2022-07-21T13:59:45.673Z"
   },
   {
    "duration": 6,
    "start_time": "2022-07-21T13:59:45.685Z"
   },
   {
    "duration": 10,
    "start_time": "2022-07-21T13:59:45.710Z"
   },
   {
    "duration": 14,
    "start_time": "2022-07-21T13:59:45.721Z"
   },
   {
    "duration": 4,
    "start_time": "2022-07-21T13:59:45.737Z"
   },
   {
    "duration": 16,
    "start_time": "2022-07-21T13:59:45.743Z"
   },
   {
    "duration": 13,
    "start_time": "2022-07-21T13:59:45.761Z"
   },
   {
    "duration": 5,
    "start_time": "2022-07-21T13:59:45.776Z"
   },
   {
    "duration": 8,
    "start_time": "2022-07-21T13:59:45.783Z"
   },
   {
    "duration": 21,
    "start_time": "2022-07-21T13:59:45.792Z"
   },
   {
    "duration": 7,
    "start_time": "2022-07-21T13:59:45.815Z"
   },
   {
    "duration": 11,
    "start_time": "2022-07-21T13:59:45.823Z"
   },
   {
    "duration": 6,
    "start_time": "2022-07-21T13:59:45.837Z"
   },
   {
    "duration": 24,
    "start_time": "2022-07-21T13:59:45.844Z"
   },
   {
    "duration": 9,
    "start_time": "2022-07-21T13:59:45.870Z"
   },
   {
    "duration": 34,
    "start_time": "2022-07-21T13:59:45.880Z"
   },
   {
    "duration": 8,
    "start_time": "2022-07-21T13:59:45.916Z"
   },
   {
    "duration": 12,
    "start_time": "2022-07-21T13:59:45.926Z"
   },
   {
    "duration": 21,
    "start_time": "2022-07-21T13:59:45.940Z"
   },
   {
    "duration": 296,
    "start_time": "2022-07-21T14:00:27.269Z"
   },
   {
    "duration": 46,
    "start_time": "2022-07-22T09:08:14.889Z"
   },
   {
    "duration": 681,
    "start_time": "2022-07-22T09:08:18.301Z"
   },
   {
    "duration": 22,
    "start_time": "2022-07-22T09:08:18.984Z"
   },
   {
    "duration": 15,
    "start_time": "2022-07-22T09:08:19.008Z"
   },
   {
    "duration": 10,
    "start_time": "2022-07-22T09:08:19.024Z"
   },
   {
    "duration": 32,
    "start_time": "2022-07-22T09:08:19.036Z"
   },
   {
    "duration": 4,
    "start_time": "2022-07-22T09:08:19.069Z"
   },
   {
    "duration": 8,
    "start_time": "2022-07-22T09:08:19.100Z"
   },
   {
    "duration": 8,
    "start_time": "2022-07-22T09:08:19.109Z"
   },
   {
    "duration": 11,
    "start_time": "2022-07-22T09:08:19.118Z"
   },
   {
    "duration": 7,
    "start_time": "2022-07-22T09:08:19.130Z"
   },
   {
    "duration": 42,
    "start_time": "2022-07-22T09:08:19.139Z"
   },
   {
    "duration": 21,
    "start_time": "2022-07-22T09:08:19.182Z"
   },
   {
    "duration": 3,
    "start_time": "2022-07-22T09:08:19.204Z"
   },
   {
    "duration": 25,
    "start_time": "2022-07-22T09:08:19.209Z"
   },
   {
    "duration": 15,
    "start_time": "2022-07-22T09:08:19.236Z"
   },
   {
    "duration": 11,
    "start_time": "2022-07-22T09:08:19.252Z"
   },
   {
    "duration": 9,
    "start_time": "2022-07-22T09:08:19.264Z"
   },
   {
    "duration": 15,
    "start_time": "2022-07-22T09:08:19.275Z"
   },
   {
    "duration": 5,
    "start_time": "2022-07-22T09:08:19.301Z"
   },
   {
    "duration": 8,
    "start_time": "2022-07-22T09:08:19.308Z"
   },
   {
    "duration": 18,
    "start_time": "2022-07-22T09:08:19.317Z"
   },
   {
    "duration": 5,
    "start_time": "2022-07-22T09:08:19.337Z"
   },
   {
    "duration": 6,
    "start_time": "2022-07-22T09:08:19.344Z"
   },
   {
    "duration": 8,
    "start_time": "2022-07-22T09:08:19.351Z"
   },
   {
    "duration": 454,
    "start_time": "2022-07-22T09:08:19.360Z"
   },
   {
    "duration": 8,
    "start_time": "2022-07-22T09:08:19.816Z"
   },
   {
    "duration": 6,
    "start_time": "2022-07-22T09:08:19.825Z"
   },
   {
    "duration": 14,
    "start_time": "2022-07-22T09:08:19.833Z"
   },
   {
    "duration": 17,
    "start_time": "2022-07-22T09:12:32.681Z"
   },
   {
    "duration": 12,
    "start_time": "2022-07-22T09:12:42.384Z"
   },
   {
    "duration": 7,
    "start_time": "2022-07-22T09:12:59.746Z"
   },
   {
    "duration": 15,
    "start_time": "2022-07-22T09:13:13.924Z"
   },
   {
    "duration": 6,
    "start_time": "2022-07-22T09:13:22.066Z"
   },
   {
    "duration": 12,
    "start_time": "2022-07-22T09:13:31.823Z"
   },
   {
    "duration": 11,
    "start_time": "2022-07-22T09:13:51.375Z"
   },
   {
    "duration": 129,
    "start_time": "2022-07-22T09:14:15.923Z"
   },
   {
    "duration": 41,
    "start_time": "2022-07-22T09:14:40.842Z"
   },
   {
    "duration": 16,
    "start_time": "2022-07-22T09:15:27.526Z"
   },
   {
    "duration": 16,
    "start_time": "2022-07-22T09:16:49.364Z"
   },
   {
    "duration": 19,
    "start_time": "2022-07-22T09:17:31.350Z"
   },
   {
    "duration": 11,
    "start_time": "2022-07-22T09:18:01.328Z"
   },
   {
    "duration": 10,
    "start_time": "2022-07-22T09:18:11.045Z"
   },
   {
    "duration": 16,
    "start_time": "2022-07-22T09:18:19.479Z"
   },
   {
    "duration": 16,
    "start_time": "2022-07-22T09:18:54.448Z"
   },
   {
    "duration": 23,
    "start_time": "2022-07-22T09:19:04.921Z"
   },
   {
    "duration": 78,
    "start_time": "2022-07-22T09:19:10.430Z"
   },
   {
    "duration": 26,
    "start_time": "2022-07-22T09:19:10.515Z"
   },
   {
    "duration": 21,
    "start_time": "2022-07-22T09:19:10.542Z"
   },
   {
    "duration": 9,
    "start_time": "2022-07-22T09:19:10.565Z"
   },
   {
    "duration": 71,
    "start_time": "2022-07-22T09:19:10.575Z"
   },
   {
    "duration": 3,
    "start_time": "2022-07-22T09:19:10.648Z"
   },
   {
    "duration": 14,
    "start_time": "2022-07-22T09:19:10.653Z"
   },
   {
    "duration": 12,
    "start_time": "2022-07-22T09:19:10.669Z"
   },
   {
    "duration": 9,
    "start_time": "2022-07-22T09:19:10.683Z"
   },
   {
    "duration": 17,
    "start_time": "2022-07-22T09:19:10.694Z"
   },
   {
    "duration": 52,
    "start_time": "2022-07-22T09:19:10.713Z"
   },
   {
    "duration": 10,
    "start_time": "2022-07-22T09:19:10.766Z"
   },
   {
    "duration": 13,
    "start_time": "2022-07-22T09:19:10.777Z"
   },
   {
    "duration": 54,
    "start_time": "2022-07-22T09:19:10.792Z"
   },
   {
    "duration": 16,
    "start_time": "2022-07-22T09:19:10.848Z"
   },
   {
    "duration": 11,
    "start_time": "2022-07-22T09:19:10.866Z"
   },
   {
    "duration": 6,
    "start_time": "2022-07-22T09:19:10.878Z"
   },
   {
    "duration": 23,
    "start_time": "2022-07-22T09:19:10.886Z"
   },
   {
    "duration": 25,
    "start_time": "2022-07-22T09:19:10.914Z"
   },
   {
    "duration": 8,
    "start_time": "2022-07-22T09:19:10.940Z"
   },
   {
    "duration": 12,
    "start_time": "2022-07-22T09:19:10.950Z"
   },
   {
    "duration": 7,
    "start_time": "2022-07-22T09:19:10.963Z"
   },
   {
    "duration": 7,
    "start_time": "2022-07-22T09:19:10.972Z"
   },
   {
    "duration": 13,
    "start_time": "2022-07-22T09:19:10.980Z"
   },
   {
    "duration": 34,
    "start_time": "2022-07-22T09:19:10.994Z"
   },
   {
    "duration": 23,
    "start_time": "2022-07-22T09:19:11.029Z"
   },
   {
    "duration": 9,
    "start_time": "2022-07-22T09:19:11.053Z"
   },
   {
    "duration": 13,
    "start_time": "2022-07-22T09:19:11.065Z"
   },
   {
    "duration": 43,
    "start_time": "2022-07-22T09:19:11.080Z"
   },
   {
    "duration": 26,
    "start_time": "2022-07-22T09:19:18.096Z"
   },
   {
    "duration": 22,
    "start_time": "2022-07-22T09:19:40.916Z"
   },
   {
    "duration": 13,
    "start_time": "2022-07-22T09:19:47.544Z"
   },
   {
    "duration": 109,
    "start_time": "2022-07-22T09:20:18.553Z"
   },
   {
    "duration": 97,
    "start_time": "2022-07-22T09:20:27.129Z"
   },
   {
    "duration": 15,
    "start_time": "2022-07-22T09:20:31.961Z"
   },
   {
    "duration": 18,
    "start_time": "2022-07-22T09:20:37.250Z"
   },
   {
    "duration": 11,
    "start_time": "2022-07-22T09:27:28.364Z"
   },
   {
    "duration": 13,
    "start_time": "2022-07-22T09:27:38.424Z"
   },
   {
    "duration": 7,
    "start_time": "2022-07-22T09:28:44.275Z"
   },
   {
    "duration": 79,
    "start_time": "2022-07-22T09:28:50.087Z"
   },
   {
    "duration": 18,
    "start_time": "2022-07-22T09:28:52.063Z"
   },
   {
    "duration": 31,
    "start_time": "2022-07-22T09:28:58.789Z"
   },
   {
    "duration": 11,
    "start_time": "2022-07-22T09:30:50.669Z"
   },
   {
    "duration": 30,
    "start_time": "2022-07-22T09:30:56.197Z"
   },
   {
    "duration": 10,
    "start_time": "2022-07-22T09:31:06.030Z"
   },
   {
    "duration": 21,
    "start_time": "2022-07-22T09:31:18.486Z"
   },
   {
    "duration": 38,
    "start_time": "2022-07-22T09:32:29.960Z"
   },
   {
    "duration": 23,
    "start_time": "2022-07-22T09:32:57.009Z"
   },
   {
    "duration": 13,
    "start_time": "2022-07-22T09:35:51.924Z"
   },
   {
    "duration": 9,
    "start_time": "2022-07-22T09:36:41.243Z"
   },
   {
    "duration": 10,
    "start_time": "2022-07-22T09:37:04.384Z"
   },
   {
    "duration": 8,
    "start_time": "2022-07-22T09:40:24.752Z"
   },
   {
    "duration": 14,
    "start_time": "2022-07-22T09:40:31.568Z"
   },
   {
    "duration": 68,
    "start_time": "2022-07-22T09:43:00.491Z"
   },
   {
    "duration": 9,
    "start_time": "2022-07-22T09:43:06.179Z"
   },
   {
    "duration": 19,
    "start_time": "2022-07-22T09:43:19.973Z"
   },
   {
    "duration": 89,
    "start_time": "2022-07-22T09:43:44.499Z"
   },
   {
    "duration": 24,
    "start_time": "2022-07-22T09:43:44.589Z"
   },
   {
    "duration": 38,
    "start_time": "2022-07-22T09:43:44.614Z"
   },
   {
    "duration": 10,
    "start_time": "2022-07-22T09:43:44.655Z"
   },
   {
    "duration": 52,
    "start_time": "2022-07-22T09:43:44.667Z"
   },
   {
    "duration": 3,
    "start_time": "2022-07-22T09:43:44.727Z"
   },
   {
    "duration": 10,
    "start_time": "2022-07-22T09:43:44.732Z"
   },
   {
    "duration": 16,
    "start_time": "2022-07-22T09:43:44.744Z"
   },
   {
    "duration": 10,
    "start_time": "2022-07-22T09:43:44.762Z"
   },
   {
    "duration": 7,
    "start_time": "2022-07-22T09:43:44.775Z"
   },
   {
    "duration": 55,
    "start_time": "2022-07-22T09:43:44.784Z"
   },
   {
    "duration": 10,
    "start_time": "2022-07-22T09:43:44.840Z"
   },
   {
    "duration": 5,
    "start_time": "2022-07-22T09:43:44.852Z"
   },
   {
    "duration": 28,
    "start_time": "2022-07-22T09:43:44.859Z"
   },
   {
    "duration": 21,
    "start_time": "2022-07-22T09:43:44.889Z"
   },
   {
    "duration": 16,
    "start_time": "2022-07-22T09:43:44.919Z"
   },
   {
    "duration": 11,
    "start_time": "2022-07-22T09:43:44.936Z"
   },
   {
    "duration": 20,
    "start_time": "2022-07-22T09:43:44.949Z"
   },
   {
    "duration": 23,
    "start_time": "2022-07-22T09:43:44.970Z"
   },
   {
    "duration": 36,
    "start_time": "2022-07-22T09:43:44.994Z"
   },
   {
    "duration": 14,
    "start_time": "2022-07-22T09:43:45.032Z"
   },
   {
    "duration": 11,
    "start_time": "2022-07-22T09:43:45.047Z"
   },
   {
    "duration": 6,
    "start_time": "2022-07-22T09:43:45.060Z"
   },
   {
    "duration": 12,
    "start_time": "2022-07-22T09:43:45.067Z"
   },
   {
    "duration": 16,
    "start_time": "2022-07-22T09:43:45.080Z"
   },
   {
    "duration": 13,
    "start_time": "2022-07-22T09:43:45.097Z"
   },
   {
    "duration": 41,
    "start_time": "2022-07-22T09:43:45.112Z"
   },
   {
    "duration": 21,
    "start_time": "2022-07-22T09:43:45.156Z"
   },
   {
    "duration": 16,
    "start_time": "2022-07-22T09:43:45.179Z"
   },
   {
    "duration": 52,
    "start_time": "2022-07-22T09:43:45.197Z"
   },
   {
    "duration": 32,
    "start_time": "2022-07-22T09:44:07.108Z"
   },
   {
    "duration": 14,
    "start_time": "2022-07-22T09:44:14.107Z"
   },
   {
    "duration": 23,
    "start_time": "2022-07-22T09:44:30.042Z"
   },
   {
    "duration": 23,
    "start_time": "2022-07-22T09:44:57.227Z"
   },
   {
    "duration": 55,
    "start_time": "2022-07-22T09:45:46.126Z"
   },
   {
    "duration": 117,
    "start_time": "2022-07-22T09:46:13.965Z"
   },
   {
    "duration": 22,
    "start_time": "2022-07-22T09:46:28.588Z"
   },
   {
    "duration": 14,
    "start_time": "2022-07-22T09:47:11.517Z"
   },
   {
    "duration": 103,
    "start_time": "2022-07-22T09:48:47.487Z"
   },
   {
    "duration": 55,
    "start_time": "2022-07-22T09:55:16.401Z"
   },
   {
    "duration": 64,
    "start_time": "2022-07-22T09:56:10.402Z"
   },
   {
    "duration": 883,
    "start_time": "2022-07-22T09:56:18.507Z"
   },
   {
    "duration": 12,
    "start_time": "2022-07-22T09:56:29.394Z"
   },
   {
    "duration": 22,
    "start_time": "2022-07-22T09:56:32.600Z"
   },
   {
    "duration": 77,
    "start_time": "2022-07-22T09:57:03.558Z"
   },
   {
    "duration": 48,
    "start_time": "2022-07-22T09:57:08.140Z"
   },
   {
    "duration": 48,
    "start_time": "2022-07-22T09:57:40.414Z"
   },
   {
    "duration": 84,
    "start_time": "2022-07-22T09:57:56.880Z"
   },
   {
    "duration": 19,
    "start_time": "2022-07-22T09:58:26.475Z"
   },
   {
    "duration": 18,
    "start_time": "2022-07-22T10:01:35.182Z"
   },
   {
    "duration": 16,
    "start_time": "2022-07-22T10:03:02.554Z"
   },
   {
    "duration": 465,
    "start_time": "2022-07-22T23:03:02.425Z"
   },
   {
    "duration": 24,
    "start_time": "2022-07-22T23:03:02.892Z"
   },
   {
    "duration": 25,
    "start_time": "2022-07-22T23:03:02.918Z"
   },
   {
    "duration": 15,
    "start_time": "2022-07-22T23:03:02.946Z"
   },
   {
    "duration": 56,
    "start_time": "2022-07-22T23:03:02.962Z"
   },
   {
    "duration": 4,
    "start_time": "2022-07-22T23:03:03.020Z"
   },
   {
    "duration": 13,
    "start_time": "2022-07-22T23:03:03.025Z"
   },
   {
    "duration": 4,
    "start_time": "2022-07-22T23:03:03.040Z"
   },
   {
    "duration": 23,
    "start_time": "2022-07-22T23:03:03.046Z"
   },
   {
    "duration": 7,
    "start_time": "2022-07-22T23:03:03.071Z"
   },
   {
    "duration": 44,
    "start_time": "2022-07-22T23:03:03.079Z"
   },
   {
    "duration": 10,
    "start_time": "2022-07-22T23:03:03.124Z"
   },
   {
    "duration": 8,
    "start_time": "2022-07-22T23:03:03.136Z"
   },
   {
    "duration": 23,
    "start_time": "2022-07-22T23:03:03.146Z"
   },
   {
    "duration": 15,
    "start_time": "2022-07-22T23:03:03.171Z"
   },
   {
    "duration": 45,
    "start_time": "2022-07-22T23:03:03.188Z"
   },
   {
    "duration": 8,
    "start_time": "2022-07-22T23:03:03.235Z"
   },
   {
    "duration": 21,
    "start_time": "2022-07-22T23:03:03.245Z"
   },
   {
    "duration": 12,
    "start_time": "2022-07-22T23:03:03.268Z"
   },
   {
    "duration": 9,
    "start_time": "2022-07-22T23:03:03.282Z"
   },
   {
    "duration": 12,
    "start_time": "2022-07-22T23:03:03.292Z"
   },
   {
    "duration": 8,
    "start_time": "2022-07-22T23:03:03.306Z"
   },
   {
    "duration": 5,
    "start_time": "2022-07-22T23:03:03.316Z"
   },
   {
    "duration": 24,
    "start_time": "2022-07-22T23:03:03.323Z"
   },
   {
    "duration": 280,
    "start_time": "2022-07-22T23:03:03.349Z"
   },
   {
    "duration": 83,
    "start_time": "2022-07-22T23:03:03.631Z"
   },
   {
    "duration": 0,
    "start_time": "2022-07-22T23:03:03.717Z"
   },
   {
    "duration": 0,
    "start_time": "2022-07-22T23:03:03.718Z"
   },
   {
    "duration": 0,
    "start_time": "2022-07-22T23:03:03.720Z"
   },
   {
    "duration": 0,
    "start_time": "2022-07-22T23:03:03.721Z"
   },
   {
    "duration": 0,
    "start_time": "2022-07-22T23:03:03.723Z"
   },
   {
    "duration": 0,
    "start_time": "2022-07-22T23:03:03.724Z"
   },
   {
    "duration": 0,
    "start_time": "2022-07-22T23:03:03.726Z"
   },
   {
    "duration": 0,
    "start_time": "2022-07-22T23:03:03.727Z"
   },
   {
    "duration": 0,
    "start_time": "2022-07-22T23:03:03.729Z"
   },
   {
    "duration": 0,
    "start_time": "2022-07-22T23:03:03.730Z"
   },
   {
    "duration": 0,
    "start_time": "2022-07-22T23:03:03.732Z"
   },
   {
    "duration": 430,
    "start_time": "2022-07-22T23:03:19.957Z"
   },
   {
    "duration": 22,
    "start_time": "2022-07-22T23:03:20.388Z"
   },
   {
    "duration": 15,
    "start_time": "2022-07-22T23:03:20.412Z"
   },
   {
    "duration": 10,
    "start_time": "2022-07-22T23:03:20.428Z"
   },
   {
    "duration": 42,
    "start_time": "2022-07-22T23:03:20.440Z"
   },
   {
    "duration": 4,
    "start_time": "2022-07-22T23:03:20.483Z"
   },
   {
    "duration": 9,
    "start_time": "2022-07-22T23:03:20.509Z"
   },
   {
    "duration": 4,
    "start_time": "2022-07-22T23:03:20.520Z"
   },
   {
    "duration": 8,
    "start_time": "2022-07-22T23:03:20.526Z"
   },
   {
    "duration": 15,
    "start_time": "2022-07-22T23:03:20.536Z"
   },
   {
    "duration": 45,
    "start_time": "2022-07-22T23:03:20.553Z"
   },
   {
    "duration": 13,
    "start_time": "2022-07-22T23:03:20.600Z"
   },
   {
    "duration": 5,
    "start_time": "2022-07-22T23:03:20.615Z"
   },
   {
    "duration": 19,
    "start_time": "2022-07-22T23:03:20.623Z"
   },
   {
    "duration": 15,
    "start_time": "2022-07-22T23:03:20.644Z"
   },
   {
    "duration": 11,
    "start_time": "2022-07-22T23:03:20.660Z"
   },
   {
    "duration": 12,
    "start_time": "2022-07-22T23:03:20.673Z"
   },
   {
    "duration": 33,
    "start_time": "2022-07-22T23:03:20.687Z"
   },
   {
    "duration": 7,
    "start_time": "2022-07-22T23:03:20.722Z"
   },
   {
    "duration": 5,
    "start_time": "2022-07-22T23:03:20.731Z"
   },
   {
    "duration": 11,
    "start_time": "2022-07-22T23:03:20.738Z"
   },
   {
    "duration": 15,
    "start_time": "2022-07-22T23:03:20.750Z"
   },
   {
    "duration": 6,
    "start_time": "2022-07-22T23:03:20.766Z"
   },
   {
    "duration": 9,
    "start_time": "2022-07-22T23:03:20.774Z"
   },
   {
    "duration": 317,
    "start_time": "2022-07-22T23:03:20.784Z"
   },
   {
    "duration": 10,
    "start_time": "2022-07-22T23:03:21.102Z"
   },
   {
    "duration": 24,
    "start_time": "2022-07-22T23:03:21.113Z"
   },
   {
    "duration": 9,
    "start_time": "2022-07-22T23:03:21.139Z"
   },
   {
    "duration": 32,
    "start_time": "2022-07-22T23:03:21.150Z"
   },
   {
    "duration": 45,
    "start_time": "2022-07-22T23:03:21.183Z"
   },
   {
    "duration": 6,
    "start_time": "2022-07-22T23:03:21.230Z"
   },
   {
    "duration": 19,
    "start_time": "2022-07-22T23:03:21.238Z"
   },
   {
    "duration": 10,
    "start_time": "2022-07-22T23:03:21.259Z"
   },
   {
    "duration": 9,
    "start_time": "2022-07-22T23:03:21.271Z"
   },
   {
    "duration": 37,
    "start_time": "2022-07-22T23:03:21.282Z"
   },
   {
    "duration": 19,
    "start_time": "2022-07-22T23:03:21.321Z"
   },
   {
    "duration": 25,
    "start_time": "2022-07-22T23:03:21.341Z"
   },
   {
    "duration": 67,
    "start_time": "2022-08-11T08:49:20.838Z"
   },
   {
    "duration": 709,
    "start_time": "2022-08-11T08:49:24.439Z"
   },
   {
    "duration": 21,
    "start_time": "2022-08-11T08:49:25.149Z"
   },
   {
    "duration": 13,
    "start_time": "2022-08-11T08:49:25.172Z"
   },
   {
    "duration": 9,
    "start_time": "2022-08-11T08:49:25.187Z"
   },
   {
    "duration": 49,
    "start_time": "2022-08-11T08:49:25.198Z"
   },
   {
    "duration": 4,
    "start_time": "2022-08-11T08:49:25.248Z"
   },
   {
    "duration": 13,
    "start_time": "2022-08-11T08:49:25.254Z"
   },
   {
    "duration": 11,
    "start_time": "2022-08-11T08:49:25.268Z"
   },
   {
    "duration": 12,
    "start_time": "2022-08-11T08:49:25.280Z"
   },
   {
    "duration": 3,
    "start_time": "2022-08-11T08:49:25.296Z"
   },
   {
    "duration": 29,
    "start_time": "2022-08-11T08:49:25.311Z"
   },
   {
    "duration": 8,
    "start_time": "2022-08-11T08:49:25.342Z"
   },
   {
    "duration": 6,
    "start_time": "2022-08-11T08:49:25.351Z"
   },
   {
    "duration": 22,
    "start_time": "2022-08-11T08:49:25.358Z"
   },
   {
    "duration": 37,
    "start_time": "2022-08-11T08:49:25.381Z"
   },
   {
    "duration": 21,
    "start_time": "2022-08-11T08:49:25.419Z"
   },
   {
    "duration": 7,
    "start_time": "2022-08-11T08:49:25.442Z"
   },
   {
    "duration": 21,
    "start_time": "2022-08-11T08:49:25.451Z"
   },
   {
    "duration": 5,
    "start_time": "2022-08-11T08:49:25.473Z"
   },
   {
    "duration": 6,
    "start_time": "2022-08-11T08:49:25.480Z"
   },
   {
    "duration": 10,
    "start_time": "2022-08-11T08:49:25.487Z"
   },
   {
    "duration": 6,
    "start_time": "2022-08-11T08:49:25.510Z"
   },
   {
    "duration": 6,
    "start_time": "2022-08-11T08:49:25.517Z"
   },
   {
    "duration": 9,
    "start_time": "2022-08-11T08:49:25.525Z"
   },
   {
    "duration": 278,
    "start_time": "2022-08-11T08:49:25.536Z"
   },
   {
    "duration": 7,
    "start_time": "2022-08-11T08:49:25.816Z"
   },
   {
    "duration": 19,
    "start_time": "2022-08-11T08:49:25.824Z"
   },
   {
    "duration": 7,
    "start_time": "2022-08-11T08:49:25.846Z"
   },
   {
    "duration": 17,
    "start_time": "2022-08-11T08:49:25.854Z"
   },
   {
    "duration": 58,
    "start_time": "2022-08-11T08:49:25.873Z"
   },
   {
    "duration": 6,
    "start_time": "2022-08-11T08:49:25.932Z"
   },
   {
    "duration": 18,
    "start_time": "2022-08-11T08:49:25.939Z"
   },
   {
    "duration": 9,
    "start_time": "2022-08-11T08:49:25.958Z"
   },
   {
    "duration": 9,
    "start_time": "2022-08-11T08:49:25.969Z"
   },
   {
    "duration": 34,
    "start_time": "2022-08-11T08:49:25.979Z"
   },
   {
    "duration": 13,
    "start_time": "2022-08-11T08:49:26.015Z"
   },
   {
    "duration": 26,
    "start_time": "2022-08-11T08:49:26.029Z"
   }
  ],
  "colab": {
   "name": "dpp_template_part2.ipynb",
   "provenance": []
  },
  "kernelspec": {
   "display_name": "Python 3 (ipykernel)",
   "language": "python",
   "name": "python3"
  },
  "language_info": {
   "codemirror_mode": {
    "name": "ipython",
    "version": 3
   },
   "file_extension": ".py",
   "mimetype": "text/x-python",
   "name": "python",
   "nbconvert_exporter": "python",
   "pygments_lexer": "ipython3",
   "version": "3.9.5"
  },
  "toc": {
   "base_numbering": 1,
   "nav_menu": {},
   "number_sections": true,
   "sideBar": true,
   "skip_h1_title": true,
   "title_cell": "Table of Contents",
   "title_sidebar": "Contents",
   "toc_cell": false,
   "toc_position": {},
   "toc_section_display": true,
   "toc_window_display": false
  }
 },
 "nbformat": 4,
 "nbformat_minor": 5
}
